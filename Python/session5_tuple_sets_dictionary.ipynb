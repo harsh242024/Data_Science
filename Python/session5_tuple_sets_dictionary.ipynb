{
  "nbformat": 4,
  "nbformat_minor": 0,
  "metadata": {
    "colab": {
      "provenance": []
    },
    "kernelspec": {
      "name": "python3",
      "display_name": "Python 3"
    },
    "language_info": {
      "name": "python"
    }
  },
  "cells": [
    {
      "cell_type": "code",
      "execution_count": null,
      "metadata": {
        "colab": {
          "base_uri": "https://localhost:8080/"
        },
        "id": "x7l5PdCJD3D-",
        "outputId": "6c446482-423e-45fc-f656-6b8481b3a499"
      },
      "outputs": [
        {
          "output_type": "stream",
          "name": "stdout",
          "text": [
            "tuple, sets, dictionary\n"
          ]
        }
      ],
      "source": [
        "print('tuple, sets, dictionary')"
      ]
    },
    {
      "cell_type": "markdown",
      "source": [
        "tuples are same as lists, just they are immutable"
      ],
      "metadata": {
        "id": "Um-YdWhzEb8G"
      }
    },
    {
      "cell_type": "code",
      "source": [
        "#they are ordered\n",
        "#unchangable\n",
        "#allow duplicates"
      ],
      "metadata": {
        "id": "SpXXE8g_EKTr"
      },
      "execution_count": null,
      "outputs": []
    },
    {
      "cell_type": "code",
      "source": [
        "#empty tuple\n",
        "t1 = ()\n",
        "print(t1)\n",
        "#to create tuple with single item\n",
        "t2 = (1)\n",
        "print(t2)\n",
        "print(type(t2))\n",
        "t3 = ('helloo')\n",
        "print(t3)\n",
        "print(type(t3))\n",
        "#so for single element in a tuple we need to add comma at last\n",
        "t4 = ('hello',)\n",
        "print(t4)\n",
        "print(type(t4))\n",
        "#hetro\n",
        "t5=(1,2,3, \"hello\",True, False)\n",
        "print(t5)\n",
        "#2D\n",
        "t6 = ((1,2,3),('a','b','c'))\n",
        "print(t6)\n",
        "#using type conversion\n",
        "t7 = tuple('hello')\n",
        "print(t7)\n",
        "t8 = tuple([1,2,3,4,5])\n",
        "print(t8)"
      ],
      "metadata": {
        "colab": {
          "base_uri": "https://localhost:8080/"
        },
        "id": "wwoYh5W6EpsX",
        "outputId": "bec660be-9d16-43e0-a900-f7e6c67c7f0b"
      },
      "execution_count": null,
      "outputs": [
        {
          "output_type": "stream",
          "name": "stdout",
          "text": [
            "()\n",
            "1\n",
            "<class 'int'>\n",
            "helloo\n",
            "<class 'str'>\n",
            "('hello',)\n",
            "<class 'tuple'>\n",
            "(1, 2, 3, 'hello', True, False)\n",
            "((1, 2, 3), ('a', 'b', 'c'))\n",
            "('h', 'e', 'l', 'l', 'o')\n",
            "(1, 2, 3, 4, 5)\n"
          ]
        }
      ]
    },
    {
      "cell_type": "code",
      "source": [
        "#accessing items in a tuple\n",
        "#indexing\n",
        "t3 = ('hello','hey','hiii')\n",
        "print(t3[1])\n",
        "print(t3)\n",
        "print(type(t3))\n",
        "print(t3[-1])\n",
        "#everything is same as list in indexing"
      ],
      "metadata": {
        "colab": {
          "base_uri": "https://localhost:8080/"
        },
        "id": "kfBXwrp8EyGQ",
        "outputId": "6f30f634-eac9-4664-9e79-4553bc0451d3"
      },
      "execution_count": null,
      "outputs": [
        {
          "output_type": "stream",
          "name": "stdout",
          "text": [
            "hey\n",
            "('hello', 'hey', 'hiii')\n",
            "<class 'tuple'>\n",
            "hiii\n"
          ]
        }
      ]
    },
    {
      "cell_type": "code",
      "source": [
        "#edit items\n",
        "t3 = ('hello','hey','hiii')\n",
        "t3[1] = 'bye'\n",
        "print(t3)"
      ],
      "metadata": {
        "colab": {
          "base_uri": "https://localhost:8080/",
          "height": 193
        },
        "id": "ldh4FzfeF10S",
        "outputId": "79242f4f-814f-4d26-c014-054c865ba087"
      },
      "execution_count": null,
      "outputs": [
        {
          "output_type": "error",
          "ename": "TypeError",
          "evalue": "'tuple' object does not support item assignment",
          "traceback": [
            "\u001b[0;31m---------------------------------------------------------------------------\u001b[0m",
            "\u001b[0;31mTypeError\u001b[0m                                 Traceback (most recent call last)",
            "\u001b[0;32m<ipython-input-28-5f96bf47c130>\u001b[0m in \u001b[0;36m<cell line: 0>\u001b[0;34m()\u001b[0m\n\u001b[1;32m      1\u001b[0m \u001b[0;31m#edit items\u001b[0m\u001b[0;34m\u001b[0m\u001b[0;34m\u001b[0m\u001b[0m\n\u001b[1;32m      2\u001b[0m \u001b[0mt3\u001b[0m \u001b[0;34m=\u001b[0m \u001b[0;34m(\u001b[0m\u001b[0;34m'hello'\u001b[0m\u001b[0;34m,\u001b[0m\u001b[0;34m'hey'\u001b[0m\u001b[0;34m,\u001b[0m\u001b[0;34m'hiii'\u001b[0m\u001b[0;34m)\u001b[0m\u001b[0;34m\u001b[0m\u001b[0;34m\u001b[0m\u001b[0m\n\u001b[0;32m----> 3\u001b[0;31m \u001b[0mt3\u001b[0m\u001b[0;34m[\u001b[0m\u001b[0;36m1\u001b[0m\u001b[0;34m]\u001b[0m \u001b[0;34m=\u001b[0m \u001b[0;34m'bye'\u001b[0m\u001b[0;34m\u001b[0m\u001b[0;34m\u001b[0m\u001b[0m\n\u001b[0m\u001b[1;32m      4\u001b[0m \u001b[0mprint\u001b[0m\u001b[0;34m(\u001b[0m\u001b[0mt3\u001b[0m\u001b[0;34m)\u001b[0m\u001b[0;34m\u001b[0m\u001b[0;34m\u001b[0m\u001b[0m\n",
            "\u001b[0;31mTypeError\u001b[0m: 'tuple' object does not support item assignment"
          ]
        }
      ]
    },
    {
      "cell_type": "code",
      "source": [
        "#adding items\n",
        "t3 = ('hello','hey','hiii')\n",
        "t3[3] = 'bye'\n",
        "print(t3)"
      ],
      "metadata": {
        "colab": {
          "base_uri": "https://localhost:8080/",
          "height": 193
        },
        "id": "MROgfCzxGvvw",
        "outputId": "20a8c1f2-6e8d-4a04-b534-289961223cdd"
      },
      "execution_count": null,
      "outputs": [
        {
          "output_type": "error",
          "ename": "TypeError",
          "evalue": "'tuple' object does not support item assignment",
          "traceback": [
            "\u001b[0;31m---------------------------------------------------------------------------\u001b[0m",
            "\u001b[0;31mTypeError\u001b[0m                                 Traceback (most recent call last)",
            "\u001b[0;32m<ipython-input-29-012fd484a388>\u001b[0m in \u001b[0;36m<cell line: 0>\u001b[0;34m()\u001b[0m\n\u001b[1;32m      1\u001b[0m \u001b[0;31m#adding items\u001b[0m\u001b[0;34m\u001b[0m\u001b[0;34m\u001b[0m\u001b[0m\n\u001b[1;32m      2\u001b[0m \u001b[0mt3\u001b[0m \u001b[0;34m=\u001b[0m \u001b[0;34m(\u001b[0m\u001b[0;34m'hello'\u001b[0m\u001b[0;34m,\u001b[0m\u001b[0;34m'hey'\u001b[0m\u001b[0;34m,\u001b[0m\u001b[0;34m'hiii'\u001b[0m\u001b[0;34m)\u001b[0m\u001b[0;34m\u001b[0m\u001b[0;34m\u001b[0m\u001b[0m\n\u001b[0;32m----> 3\u001b[0;31m \u001b[0mt3\u001b[0m\u001b[0;34m[\u001b[0m\u001b[0;36m3\u001b[0m\u001b[0;34m]\u001b[0m \u001b[0;34m=\u001b[0m \u001b[0;34m'bye'\u001b[0m\u001b[0;34m\u001b[0m\u001b[0;34m\u001b[0m\u001b[0m\n\u001b[0m\u001b[1;32m      4\u001b[0m \u001b[0mprint\u001b[0m\u001b[0;34m(\u001b[0m\u001b[0mt3\u001b[0m\u001b[0;34m)\u001b[0m\u001b[0;34m\u001b[0m\u001b[0;34m\u001b[0m\u001b[0m\n",
            "\u001b[0;31mTypeError\u001b[0m: 'tuple' object does not support item assignment"
          ]
        }
      ]
    },
    {
      "cell_type": "code",
      "source": [
        "#deleting items\n",
        "# can delete whole tuple but cannot delete individual or a portion\n",
        "t3 = (1,2,3,4,5 )\n",
        "del t3\n",
        "print (t3)"
      ],
      "metadata": {
        "colab": {
          "base_uri": "https://localhost:8080/",
          "height": 176
        },
        "id": "dt06QIt1G2yD",
        "outputId": "cb9598dc-79ac-4196-fa5f-02d6afad6ecb"
      },
      "execution_count": null,
      "outputs": [
        {
          "output_type": "error",
          "ename": "NameError",
          "evalue": "name 't3' is not defined",
          "traceback": [
            "\u001b[0;31m---------------------------------------------------------------------------\u001b[0m",
            "\u001b[0;31mNameError\u001b[0m                                 Traceback (most recent call last)",
            "\u001b[0;32m<ipython-input-31-673f0d30a196>\u001b[0m in \u001b[0;36m<cell line: 0>\u001b[0;34m()\u001b[0m\n\u001b[1;32m      3\u001b[0m \u001b[0mt3\u001b[0m \u001b[0;34m=\u001b[0m \u001b[0;34m(\u001b[0m\u001b[0;36m1\u001b[0m\u001b[0;34m,\u001b[0m\u001b[0;36m2\u001b[0m\u001b[0;34m,\u001b[0m\u001b[0;36m3\u001b[0m\u001b[0;34m,\u001b[0m\u001b[0;36m4\u001b[0m\u001b[0;34m,\u001b[0m\u001b[0;36m5\u001b[0m \u001b[0;34m)\u001b[0m\u001b[0;34m\u001b[0m\u001b[0;34m\u001b[0m\u001b[0m\n\u001b[1;32m      4\u001b[0m \u001b[0;32mdel\u001b[0m \u001b[0mt3\u001b[0m\u001b[0;34m\u001b[0m\u001b[0;34m\u001b[0m\u001b[0m\n\u001b[0;32m----> 5\u001b[0;31m \u001b[0mprint\u001b[0m \u001b[0;34m(\u001b[0m\u001b[0mt3\u001b[0m\u001b[0;34m)\u001b[0m\u001b[0;34m\u001b[0m\u001b[0;34m\u001b[0m\u001b[0m\n\u001b[0m",
            "\u001b[0;31mNameError\u001b[0m: name 't3' is not defined"
          ]
        }
      ]
    },
    {
      "cell_type": "code",
      "source": [
        "#operations on tuple\n",
        "# + *\n",
        "t1 = (1,2,3)\n",
        "t2 = (4,5,6)\n",
        "print(t1+t2)\n",
        "print(t1*3)"
      ],
      "metadata": {
        "colab": {
          "base_uri": "https://localhost:8080/"
        },
        "id": "2UBYdmtNHJ60",
        "outputId": "f8af83f3-f7d7-40a5-d1f9-537bdd32692d"
      },
      "execution_count": null,
      "outputs": [
        {
          "output_type": "stream",
          "name": "stdout",
          "text": [
            "(1, 2, 3, 4, 5, 6)\n",
            "(1, 2, 3, 1, 2, 3, 1, 2, 3)\n"
          ]
        }
      ]
    },
    {
      "cell_type": "code",
      "source": [
        "#membership\n",
        "t1 = (1,2,3)\n",
        "print(1 in t1)\n",
        "print(4 in t1)"
      ],
      "metadata": {
        "colab": {
          "base_uri": "https://localhost:8080/"
        },
        "id": "1pdAehBnHktT",
        "outputId": "965359d5-9a7e-4b63-9c4e-e02221bda06d"
      },
      "execution_count": null,
      "outputs": [
        {
          "output_type": "stream",
          "name": "stdout",
          "text": [
            "True\n",
            "False\n"
          ]
        }
      ]
    },
    {
      "cell_type": "code",
      "source": [
        "#loops\n",
        "t1 = (1,2,3)\n",
        "for i in t1:\n",
        "    print(i)"
      ],
      "metadata": {
        "colab": {
          "base_uri": "https://localhost:8080/"
        },
        "id": "Rqd42TbTHqlP",
        "outputId": "3b1bfb3a-4503-47b9-9fdf-baa32ece81b3"
      },
      "execution_count": null,
      "outputs": [
        {
          "output_type": "stream",
          "name": "stdout",
          "text": [
            "1\n",
            "2\n",
            "3\n"
          ]
        }
      ]
    },
    {
      "cell_type": "code",
      "source": [
        "#functions in tuple\n",
        "#len()\n",
        "t1 = (1,2,3)\n",
        "print(len(t1))\n",
        "\n",
        "#min()\n",
        "t1 = (1,2,3)\n",
        "print(min(t1))\n",
        "\n",
        "#max()\n",
        "t1 = (1,2,3)\n",
        "print(max(t1))\n",
        "\n",
        "#sum()\n",
        "t1 = (1,2,3)\n",
        "print(sum(t1))\n",
        "\n",
        "#sorted()\n",
        "t1 = (1,2,3)\n",
        "print(sorted(t1))\n",
        "\n"
      ],
      "metadata": {
        "colab": {
          "base_uri": "https://localhost:8080/"
        },
        "id": "XSnQKUEiHsv8",
        "outputId": "052c93e7-28f6-4d4f-b5de-0cd2d999eac9"
      },
      "execution_count": null,
      "outputs": [
        {
          "output_type": "stream",
          "name": "stdout",
          "text": [
            "3\n",
            "1\n",
            "3\n",
            "6\n",
            "[1, 2, 3]\n"
          ]
        }
      ]
    },
    {
      "cell_type": "code",
      "source": [
        "#count\n",
        "t1 = (1,2,3,1,2,3,1,2,3)\n",
        "print(t1.count(1))"
      ],
      "metadata": {
        "colab": {
          "base_uri": "https://localhost:8080/"
        },
        "id": "fPSX1kvXH120",
        "outputId": "982aa44e-8251-4711-b02b-3753436f9622"
      },
      "execution_count": null,
      "outputs": [
        {
          "output_type": "stream",
          "name": "stdout",
          "text": [
            "3\n"
          ]
        }
      ]
    },
    {
      "cell_type": "code",
      "source": [
        "#index\n",
        "t1 = (1,2,3,1,2,3,1,2,3)\n",
        "print(t1.index(1))"
      ],
      "metadata": {
        "colab": {
          "base_uri": "https://localhost:8080/"
        },
        "id": "wPlBJ7H0IRVi",
        "outputId": "3b83342d-2873-4398-a5fb-f768246e0b1e"
      },
      "execution_count": null,
      "outputs": [
        {
          "output_type": "stream",
          "name": "stdout",
          "text": [
            "0\n"
          ]
        }
      ]
    },
    {
      "cell_type": "code",
      "source": [
        "''' difference between lists and lists\n",
        "syntax\n",
        "tuples are not mutable\n",
        "tuples are faster then list because they area immutable\n",
        "tuple take less memory reasn upr walla hi\n",
        "built in functions for lists is more than tuple\n",
        "lists are nore error prone\n",
        " '''"
      ],
      "metadata": {
        "colab": {
          "base_uri": "https://localhost:8080/",
          "height": 53
        },
        "id": "-xS6WXg9ITPg",
        "outputId": "847f0e41-1f21-42c8-f057-976677ef6840"
      },
      "execution_count": null,
      "outputs": [
        {
          "output_type": "execute_result",
          "data": {
            "text/plain": [
              "' difference between lists and lists\\nsyntax\\ntuples are not mutable\\ntuples are faster then list because they area immutable\\ntuple take less memory reasn upr walla hi\\nbuilt in functions for lists is more than tuple\\nlists are nore error prone\\n '"
            ],
            "application/vnd.google.colaboratory.intrinsic+json": {
              "type": "string"
            }
          },
          "metadata": {},
          "execution_count": 43
        }
      ]
    },
    {
      "cell_type": "code",
      "source": [
        "# eg of error prone\n",
        "a=[1,2,3]\n",
        "b=a\n",
        "a.append(4)\n",
        "print(a)\n",
        "print(b)\n",
        "\n",
        "print(\" \")\n",
        "\n",
        "c=(1,2,3)\n",
        "d=c\n",
        "c=c+(4,)\n",
        "print(c)\n",
        "print(d)"
      ],
      "metadata": {
        "colab": {
          "base_uri": "https://localhost:8080/"
        },
        "id": "UEiD-UExJP2c",
        "outputId": "3e9ed02f-d526-4b19-b26b-0f41043a66a4"
      },
      "execution_count": null,
      "outputs": [
        {
          "output_type": "stream",
          "name": "stdout",
          "text": [
            "[1, 2, 3, 4]\n",
            "[1, 2, 3, 4]\n",
            " \n",
            "(1, 2, 3, 4)\n",
            "(1, 2, 3)\n"
          ]
        }
      ]
    },
    {
      "cell_type": "code",
      "source": [
        "#applications where changes can be made make use of lists"
      ],
      "metadata": {
        "id": "8H9uqre1Je5Q"
      },
      "execution_count": null,
      "outputs": []
    },
    {
      "cell_type": "code",
      "source": [
        "#tuple unpacking\n",
        "a,b,c=(1,2,3)\n",
        "print(a,b,c)"
      ],
      "metadata": {
        "colab": {
          "base_uri": "https://localhost:8080/"
        },
        "id": "1gZ8VZcUKLy0",
        "outputId": "59d2b105-c90c-4483-bbe9-77c63abb23f2"
      },
      "execution_count": null,
      "outputs": [
        {
          "output_type": "stream",
          "name": "stdout",
          "text": [
            "1 2 3\n"
          ]
        }
      ]
    },
    {
      "cell_type": "code",
      "source": [
        "a,b=(1,2,3)\n",
        "print(a,b)"
      ],
      "metadata": {
        "colab": {
          "base_uri": "https://localhost:8080/",
          "height": 159
        },
        "id": "rvaF4j5PKPJP",
        "outputId": "378093c1-19d0-412c-a725-cab0e7f79c40"
      },
      "execution_count": null,
      "outputs": [
        {
          "output_type": "error",
          "ename": "ValueError",
          "evalue": "too many values to unpack (expected 2)",
          "traceback": [
            "\u001b[0;31m---------------------------------------------------------------------------\u001b[0m",
            "\u001b[0;31mValueError\u001b[0m                                Traceback (most recent call last)",
            "\u001b[0;32m<ipython-input-52-413e8ed2157a>\u001b[0m in \u001b[0;36m<cell line: 0>\u001b[0;34m()\u001b[0m\n\u001b[0;32m----> 1\u001b[0;31m \u001b[0ma\u001b[0m\u001b[0;34m,\u001b[0m\u001b[0mb\u001b[0m\u001b[0;34m=\u001b[0m\u001b[0;34m(\u001b[0m\u001b[0;36m1\u001b[0m\u001b[0;34m,\u001b[0m\u001b[0;36m2\u001b[0m\u001b[0;34m,\u001b[0m\u001b[0;36m3\u001b[0m\u001b[0;34m)\u001b[0m\u001b[0;34m\u001b[0m\u001b[0;34m\u001b[0m\u001b[0m\n\u001b[0m\u001b[1;32m      2\u001b[0m \u001b[0mprint\u001b[0m\u001b[0;34m(\u001b[0m\u001b[0ma\u001b[0m\u001b[0;34m,\u001b[0m\u001b[0mb\u001b[0m\u001b[0;34m)\u001b[0m\u001b[0;34m\u001b[0m\u001b[0;34m\u001b[0m\u001b[0m\n",
            "\u001b[0;31mValueError\u001b[0m: too many values to unpack (expected 2)"
          ]
        }
      ]
    },
    {
      "cell_type": "code",
      "source": [
        "#swapping values easy way\n",
        "a=1\n",
        "b=2\n",
        "a,b = b,a\n",
        "print(a,b)"
      ],
      "metadata": {
        "colab": {
          "base_uri": "https://localhost:8080/"
        },
        "id": "CfVXWe01KV8x",
        "outputId": "b1fac13c-bbcf-46c1-8a80-3c40e0772de3"
      },
      "execution_count": null,
      "outputs": [
        {
          "output_type": "stream",
          "name": "stdout",
          "text": [
            "2 1\n"
          ]
        }
      ]
    },
    {
      "cell_type": "code",
      "source": [
        "a,b,*other = (1,2,3,4,5)\n",
        "print(a)\n",
        "print(b)\n",
        "print(other)"
      ],
      "metadata": {
        "colab": {
          "base_uri": "https://localhost:8080/"
        },
        "id": "TbUVF6haKjCw",
        "outputId": "a2e290ec-86a7-42ca-8fe5-c13fd3325261"
      },
      "execution_count": null,
      "outputs": [
        {
          "output_type": "stream",
          "name": "stdout",
          "text": [
            "1\n",
            "2\n",
            "[3, 4, 5]\n"
          ]
        }
      ]
    },
    {
      "cell_type": "code",
      "source": [
        "#zipping tuples\n",
        "a=(1,2,3)\n",
        "b=(4,5,6)\n",
        "c=zip(a,b)\n",
        "print(zip(a,b))\n",
        "print(tuple(c))"
      ],
      "metadata": {
        "colab": {
          "base_uri": "https://localhost:8080/"
        },
        "id": "RW9Z2lN-Ku_H",
        "outputId": "b7affb36-12db-4b9c-d528-3dcf5c0ce530"
      },
      "execution_count": null,
      "outputs": [
        {
          "output_type": "stream",
          "name": "stdout",
          "text": [
            "<zip object at 0x7ea77b549f00>\n",
            "((1, 4), (2, 5), (3, 6))\n"
          ]
        }
      ]
    },
    {
      "cell_type": "markdown",
      "source": [
        "SETS\n",
        "\n",
        "---\n",
        "\n",
        "it is unordered collection of items.\n",
        "\n",
        "---\n",
        "\n",
        "every element is unique (no duplicate) and must be immutable --> set mutable hota hahi pr uske andar mutable items nhi daal skte\n",
        "\n",
        "---\n",
        "*   unordered\n",
        "*   mutable\n",
        "*   no duplicate\n",
        "*   cannot contain mutable data types therefore 2D sets not possible\n",
        "\n",
        "\n"
      ],
      "metadata": {
        "id": "PsgXqJy9LFkR"
      }
    },
    {
      "cell_type": "code",
      "source": [
        "#empty\n",
        "s1 = {}#ye dictionary bnega\n",
        "print(s1)\n",
        "print(type(s1)) #dictionary\n",
        "#empty set\n",
        "s2 = set()\n",
        "print(s2)\n",
        "print(type(s2))"
      ],
      "metadata": {
        "colab": {
          "base_uri": "https://localhost:8080/"
        },
        "id": "9MN4dYP5K0Rw",
        "outputId": "711ee504-556e-4575-f109-f32176c436fd"
      },
      "execution_count": null,
      "outputs": [
        {
          "output_type": "stream",
          "name": "stdout",
          "text": [
            "{}\n",
            "<class 'dict'>\n",
            "set()\n",
            "<class 'set'>\n"
          ]
        }
      ]
    },
    {
      "cell_type": "code",
      "source": [
        "#1D and 2D\n",
        "s3 = {1,2,3}\n",
        "print(s3)\n",
        "print(type(s3))\n",
        "s4 = {1,2,3,{4,5,6}}\n",
        "print(s4)\n",
        "print(type(s4))"
      ],
      "metadata": {
        "colab": {
          "base_uri": "https://localhost:8080/",
          "height": 245
        },
        "id": "D6DGqnKyMKLM",
        "outputId": "1e9f2815-bdf4-4eb5-a021-5371efa452c1"
      },
      "execution_count": null,
      "outputs": [
        {
          "output_type": "stream",
          "name": "stdout",
          "text": [
            "{1, 2, 3}\n",
            "<class 'set'>\n"
          ]
        },
        {
          "output_type": "error",
          "ename": "TypeError",
          "evalue": "unhashable type: 'set'",
          "traceback": [
            "\u001b[0;31m---------------------------------------------------------------------------\u001b[0m",
            "\u001b[0;31mTypeError\u001b[0m                                 Traceback (most recent call last)",
            "\u001b[0;32m<ipython-input-65-3d450dcbad76>\u001b[0m in \u001b[0;36m<cell line: 0>\u001b[0;34m()\u001b[0m\n\u001b[1;32m      3\u001b[0m \u001b[0mprint\u001b[0m\u001b[0;34m(\u001b[0m\u001b[0ms3\u001b[0m\u001b[0;34m)\u001b[0m\u001b[0;34m\u001b[0m\u001b[0;34m\u001b[0m\u001b[0m\n\u001b[1;32m      4\u001b[0m \u001b[0mprint\u001b[0m\u001b[0;34m(\u001b[0m\u001b[0mtype\u001b[0m\u001b[0;34m(\u001b[0m\u001b[0ms3\u001b[0m\u001b[0;34m)\u001b[0m\u001b[0;34m)\u001b[0m\u001b[0;34m\u001b[0m\u001b[0;34m\u001b[0m\u001b[0m\n\u001b[0;32m----> 5\u001b[0;31m \u001b[0ms4\u001b[0m \u001b[0;34m=\u001b[0m \u001b[0;34m{\u001b[0m\u001b[0;36m1\u001b[0m\u001b[0;34m,\u001b[0m\u001b[0;36m2\u001b[0m\u001b[0;34m,\u001b[0m\u001b[0;36m3\u001b[0m\u001b[0;34m,\u001b[0m\u001b[0;34m{\u001b[0m\u001b[0;36m4\u001b[0m\u001b[0;34m,\u001b[0m\u001b[0;36m5\u001b[0m\u001b[0;34m,\u001b[0m\u001b[0;36m6\u001b[0m\u001b[0;34m}\u001b[0m\u001b[0;34m}\u001b[0m\u001b[0;34m\u001b[0m\u001b[0;34m\u001b[0m\u001b[0m\n\u001b[0m\u001b[1;32m      6\u001b[0m \u001b[0mprint\u001b[0m\u001b[0;34m(\u001b[0m\u001b[0ms4\u001b[0m\u001b[0;34m)\u001b[0m\u001b[0;34m\u001b[0m\u001b[0;34m\u001b[0m\u001b[0m\n\u001b[1;32m      7\u001b[0m \u001b[0mprint\u001b[0m\u001b[0;34m(\u001b[0m\u001b[0mtype\u001b[0m\u001b[0;34m(\u001b[0m\u001b[0ms4\u001b[0m\u001b[0;34m)\u001b[0m\u001b[0;34m)\u001b[0m\u001b[0;34m\u001b[0m\u001b[0;34m\u001b[0m\u001b[0m\n",
            "\u001b[0;31mTypeError\u001b[0m: unhashable type: 'set'"
          ]
        }
      ]
    },
    {
      "cell_type": "code",
      "source": [
        "#homo and hetro\n",
        "s5 = {1,2,3}\n",
        "print(s5)\n",
        "s6 = {1,2,3,\"hello\",True,False} #we cannot have duplicates isliye true nhi show hua\n",
        "print(s6)"
      ],
      "metadata": {
        "colab": {
          "base_uri": "https://localhost:8080/"
        },
        "id": "cNvFgJxgMjvB",
        "outputId": "6ff3b207-3fc6-4f21-b752-c1b87d4f9611"
      },
      "execution_count": null,
      "outputs": [
        {
          "output_type": "stream",
          "name": "stdout",
          "text": [
            "{1, 2, 3}\n",
            "{False, 1, 2, 3, 'hello'}\n"
          ]
        }
      ]
    },
    {
      "cell_type": "code",
      "source": [
        "#using type conversion\n",
        "s7 = set('hello')\n",
        "print(s7)"
      ],
      "metadata": {
        "colab": {
          "base_uri": "https://localhost:8080/"
        },
        "id": "MlPy0iRINh66",
        "outputId": "fc8933d2-d598-4185-a309-5694cf96565b"
      },
      "execution_count": null,
      "outputs": [
        {
          "output_type": "stream",
          "name": "stdout",
          "text": [
            "{'o', 'e', 'h', 'l'}\n"
          ]
        }
      ]
    },
    {
      "cell_type": "code",
      "source": [
        "#duplicates not allowed\n",
        "s8 = {1,2,3,1,2,3}\n",
        "print(s8)\n",
        "#set can't have mutable items\n",
        "s9 = {[1,2,3]}\n",
        "print(s9)"
      ],
      "metadata": {
        "colab": {
          "base_uri": "https://localhost:8080/",
          "height": 211
        },
        "id": "pKa5FfGKN5C4",
        "outputId": "2bd032f8-582d-4a5e-8549-e52fc8b6349d"
      },
      "execution_count": null,
      "outputs": [
        {
          "output_type": "stream",
          "name": "stdout",
          "text": [
            "{1, 2, 3}\n"
          ]
        },
        {
          "output_type": "error",
          "ename": "TypeError",
          "evalue": "unhashable type: 'list'",
          "traceback": [
            "\u001b[0;31m---------------------------------------------------------------------------\u001b[0m",
            "\u001b[0;31mTypeError\u001b[0m                                 Traceback (most recent call last)",
            "\u001b[0;32m<ipython-input-71-18cd68412288>\u001b[0m in \u001b[0;36m<cell line: 0>\u001b[0;34m()\u001b[0m\n\u001b[1;32m      3\u001b[0m \u001b[0mprint\u001b[0m\u001b[0;34m(\u001b[0m\u001b[0ms8\u001b[0m\u001b[0;34m)\u001b[0m\u001b[0;34m\u001b[0m\u001b[0;34m\u001b[0m\u001b[0m\n\u001b[1;32m      4\u001b[0m \u001b[0;31m#set can't have mutable items\u001b[0m\u001b[0;34m\u001b[0m\u001b[0;34m\u001b[0m\u001b[0m\n\u001b[0;32m----> 5\u001b[0;31m \u001b[0ms9\u001b[0m \u001b[0;34m=\u001b[0m \u001b[0;34m{\u001b[0m\u001b[0;34m[\u001b[0m\u001b[0;36m1\u001b[0m\u001b[0;34m,\u001b[0m\u001b[0;36m2\u001b[0m\u001b[0;34m,\u001b[0m\u001b[0;36m3\u001b[0m\u001b[0;34m]\u001b[0m\u001b[0;34m}\u001b[0m\u001b[0;34m\u001b[0m\u001b[0;34m\u001b[0m\u001b[0m\n\u001b[0m\u001b[1;32m      6\u001b[0m \u001b[0mprint\u001b[0m\u001b[0;34m(\u001b[0m\u001b[0ms9\u001b[0m\u001b[0;34m)\u001b[0m\u001b[0;34m\u001b[0m\u001b[0;34m\u001b[0m\u001b[0m\n",
            "\u001b[0;31mTypeError\u001b[0m: unhashable type: 'list'"
          ]
        }
      ]
    },
    {
      "cell_type": "code",
      "source": [
        "s1={1,2,3}\n",
        "s2={3,2,1}\n",
        "print(s1==s2) #because sets is unordered"
      ],
      "metadata": {
        "colab": {
          "base_uri": "https://localhost:8080/"
        },
        "id": "HxpYx1yFOCXk",
        "outputId": "0e603305-f967-4719-dbf0-3415e241befc"
      },
      "execution_count": null,
      "outputs": [
        {
          "output_type": "stream",
          "name": "stdout",
          "text": [
            "True\n"
          ]
        }
      ]
    },
    {
      "cell_type": "code",
      "source": [
        "#accessing items\n",
        "s1 = {1,2,3,4}\n",
        "s1[0] #cannot do indexing , sllicing , because it is unordered"
      ],
      "metadata": {
        "colab": {
          "base_uri": "https://localhost:8080/",
          "height": 176
        },
        "id": "0J6878tgOUef",
        "outputId": "141aafe3-f84c-4a0f-d289-d3ae809bd7d2"
      },
      "execution_count": null,
      "outputs": [
        {
          "output_type": "error",
          "ename": "TypeError",
          "evalue": "'set' object is not subscriptable",
          "traceback": [
            "\u001b[0;31m---------------------------------------------------------------------------\u001b[0m",
            "\u001b[0;31mTypeError\u001b[0m                                 Traceback (most recent call last)",
            "\u001b[0;32m<ipython-input-76-28f96ee83650>\u001b[0m in \u001b[0;36m<cell line: 0>\u001b[0;34m()\u001b[0m\n\u001b[1;32m      1\u001b[0m \u001b[0;31m#accessing items\u001b[0m\u001b[0;34m\u001b[0m\u001b[0;34m\u001b[0m\u001b[0m\n\u001b[1;32m      2\u001b[0m \u001b[0ms1\u001b[0m \u001b[0;34m=\u001b[0m \u001b[0;34m{\u001b[0m\u001b[0;36m1\u001b[0m\u001b[0;34m,\u001b[0m\u001b[0;36m2\u001b[0m\u001b[0;34m,\u001b[0m\u001b[0;36m3\u001b[0m\u001b[0;34m,\u001b[0m\u001b[0;36m4\u001b[0m\u001b[0;34m}\u001b[0m\u001b[0;34m\u001b[0m\u001b[0;34m\u001b[0m\u001b[0m\n\u001b[0;32m----> 3\u001b[0;31m \u001b[0ms1\u001b[0m\u001b[0;34m[\u001b[0m\u001b[0;36m0\u001b[0m\u001b[0;34m]\u001b[0m \u001b[0;31m#cannot do indexing , sllicing , because it is unordered\u001b[0m\u001b[0;34m\u001b[0m\u001b[0;34m\u001b[0m\u001b[0m\n\u001b[0m",
            "\u001b[0;31mTypeError\u001b[0m: 'set' object is not subscriptable"
          ]
        }
      ]
    },
    {
      "cell_type": "code",
      "source": [
        "#indexing , slicing not allowed\n",
        "\n",
        "# but can add new item and delete and item\n",
        "\n",
        "#add  -----> only add one item at once\n",
        "s={1,2,3,4}\n",
        "s.add(5)\n",
        "print(s)\n",
        "\n",
        "#update     -----> can add multiple items bs items ko list ke andar bhejna pdega\n",
        "s.update([6,7,8])\n",
        "print(s)"
      ],
      "metadata": {
        "colab": {
          "base_uri": "https://localhost:8080/"
        },
        "id": "rHfQVPslOg4u",
        "outputId": "c9fd5ad9-594c-4fda-d074-c66a42036a66"
      },
      "execution_count": null,
      "outputs": [
        {
          "output_type": "stream",
          "name": "stdout",
          "text": [
            "{1, 2, 3, 4, 5}\n",
            "{1, 2, 3, 4, 5, 6, 7, 8}\n"
          ]
        }
      ]
    },
    {
      "cell_type": "code",
      "source": [
        "#deleting items\n",
        "#del\n",
        "s={1,2,3,4}\n",
        "del s\n",
        "print(s) #-----> not printted because deleted\n",
        "del s[0] #cannot do this bec. slicing and indexing does not work in sets"
      ],
      "metadata": {
        "colab": {
          "base_uri": "https://localhost:8080/",
          "height": 193
        },
        "id": "GFn9AR24O43i",
        "outputId": "44b993c3-7c1b-4328-8791-a52b255b9ec8"
      },
      "execution_count": null,
      "outputs": [
        {
          "output_type": "error",
          "ename": "NameError",
          "evalue": "name 's' is not defined",
          "traceback": [
            "\u001b[0;31m---------------------------------------------------------------------------\u001b[0m",
            "\u001b[0;31mNameError\u001b[0m                                 Traceback (most recent call last)",
            "\u001b[0;32m<ipython-input-83-68bc0401806d>\u001b[0m in \u001b[0;36m<cell line: 0>\u001b[0;34m()\u001b[0m\n\u001b[1;32m      3\u001b[0m \u001b[0ms\u001b[0m\u001b[0;34m=\u001b[0m\u001b[0;34m{\u001b[0m\u001b[0;36m1\u001b[0m\u001b[0;34m,\u001b[0m\u001b[0;36m2\u001b[0m\u001b[0;34m,\u001b[0m\u001b[0;36m3\u001b[0m\u001b[0;34m,\u001b[0m\u001b[0;36m4\u001b[0m\u001b[0;34m}\u001b[0m\u001b[0;34m\u001b[0m\u001b[0;34m\u001b[0m\u001b[0m\n\u001b[1;32m      4\u001b[0m \u001b[0;32mdel\u001b[0m \u001b[0ms\u001b[0m\u001b[0;34m\u001b[0m\u001b[0;34m\u001b[0m\u001b[0m\n\u001b[0;32m----> 5\u001b[0;31m \u001b[0mprint\u001b[0m\u001b[0;34m(\u001b[0m\u001b[0ms\u001b[0m\u001b[0;34m)\u001b[0m \u001b[0;31m#-----> not printted because deleted\u001b[0m\u001b[0;34m\u001b[0m\u001b[0;34m\u001b[0m\u001b[0m\n\u001b[0m\u001b[1;32m      6\u001b[0m \u001b[0;32mdel\u001b[0m \u001b[0ms\u001b[0m\u001b[0;34m[\u001b[0m\u001b[0;36m0\u001b[0m\u001b[0;34m]\u001b[0m \u001b[0;31m#cannot do this bec. slicing and indexing does not work in sets\u001b[0m\u001b[0;34m\u001b[0m\u001b[0;34m\u001b[0m\u001b[0m\n",
            "\u001b[0;31mNameError\u001b[0m: name 's' is not defined"
          ]
        }
      ]
    },
    {
      "cell_type": "code",
      "source": [
        "#discard\n",
        "s={1,2,3,4}\n",
        "s.discard(4)\n",
        "print(s)\n",
        "s.discard(50) # will not throw error"
      ],
      "metadata": {
        "colab": {
          "base_uri": "https://localhost:8080/"
        },
        "id": "jUPQyczyPZTj",
        "outputId": "69da3b4e-50bc-4319-e8cb-f106a13cdcdc"
      },
      "execution_count": null,
      "outputs": [
        {
          "output_type": "stream",
          "name": "stdout",
          "text": [
            "{1, 2, 3}\n"
          ]
        }
      ]
    },
    {
      "cell_type": "code",
      "source": [
        "#remove\n",
        "s={1,2,3,4}\n",
        "s.remove(4)\n",
        "print(s)\n",
        "s.remove(50) # will throw error ---------> difference bw discard and remove"
      ],
      "metadata": {
        "colab": {
          "base_uri": "https://localhost:8080/",
          "height": 193
        },
        "id": "ZCHkjYlsPs0L",
        "outputId": "6a661dab-cf64-4b71-8878-71cd429e1f6d"
      },
      "execution_count": null,
      "outputs": [
        {
          "output_type": "stream",
          "name": "stdout",
          "text": [
            "{1, 2, 3}\n"
          ]
        },
        {
          "output_type": "error",
          "ename": "KeyError",
          "evalue": "50",
          "traceback": [
            "\u001b[0;31m---------------------------------------------------------------------------\u001b[0m",
            "\u001b[0;31mKeyError\u001b[0m                                  Traceback (most recent call last)",
            "\u001b[0;32m<ipython-input-88-2a86aa285921>\u001b[0m in \u001b[0;36m<cell line: 0>\u001b[0;34m()\u001b[0m\n\u001b[1;32m      3\u001b[0m \u001b[0ms\u001b[0m\u001b[0;34m.\u001b[0m\u001b[0mremove\u001b[0m\u001b[0;34m(\u001b[0m\u001b[0;36m4\u001b[0m\u001b[0;34m)\u001b[0m\u001b[0;34m\u001b[0m\u001b[0;34m\u001b[0m\u001b[0m\n\u001b[1;32m      4\u001b[0m \u001b[0mprint\u001b[0m\u001b[0;34m(\u001b[0m\u001b[0ms\u001b[0m\u001b[0;34m)\u001b[0m\u001b[0;34m\u001b[0m\u001b[0;34m\u001b[0m\u001b[0m\n\u001b[0;32m----> 5\u001b[0;31m \u001b[0ms\u001b[0m\u001b[0;34m.\u001b[0m\u001b[0mremove\u001b[0m\u001b[0;34m(\u001b[0m\u001b[0;36m50\u001b[0m\u001b[0;34m)\u001b[0m \u001b[0;31m# will throw error ---------> difference bw discard and remove\u001b[0m\u001b[0;34m\u001b[0m\u001b[0;34m\u001b[0m\u001b[0m\n\u001b[0m",
            "\u001b[0;31mKeyError\u001b[0m: 50"
          ]
        }
      ]
    },
    {
      "cell_type": "code",
      "source": [
        "#pop\n",
        "s={1,2,3,4}\n",
        "s.pop()\n",
        "print(s) #----> randomly kisi ko bhi delete kr dega"
      ],
      "metadata": {
        "colab": {
          "base_uri": "https://localhost:8080/"
        },
        "id": "fqECaQIePwIl",
        "outputId": "57c8d400-c010-467b-9e39-72b0387379d8"
      },
      "execution_count": null,
      "outputs": [
        {
          "output_type": "stream",
          "name": "stdout",
          "text": [
            "{2, 3, 4}\n"
          ]
        }
      ]
    },
    {
      "cell_type": "code",
      "source": [
        "#clear\n",
        "s={1,2,3,4}\n",
        "s.clear()     # clears up the set to empty set\n",
        "print(s)"
      ],
      "metadata": {
        "colab": {
          "base_uri": "https://localhost:8080/"
        },
        "id": "8Ch05PLrQIi1",
        "outputId": "3ea1f25c-3ed4-4d2c-e46f-06531e654d48"
      },
      "execution_count": null,
      "outputs": [
        {
          "output_type": "stream",
          "name": "stdout",
          "text": [
            "set()\n"
          ]
        }
      ]
    },
    {
      "cell_type": "markdown",
      "source": [
        "Set operations"
      ],
      "metadata": {
        "id": "YTs-fm02Qe4j"
      }
    },
    {
      "cell_type": "code",
      "source": [
        "#union(|). -----> will print all items of both sets only once no duplicate\n",
        "s1 = {1,2,3}\n",
        "s2 = {3,4,5}\n",
        "print(s1|s2)\n",
        "print(s1.union(s2))"
      ],
      "metadata": {
        "colab": {
          "base_uri": "https://localhost:8080/"
        },
        "id": "bs0CbuuOQLJ4",
        "outputId": "614e3ede-b960-432e-fb26-4d0b9cfe3596"
      },
      "execution_count": null,
      "outputs": [
        {
          "output_type": "stream",
          "name": "stdout",
          "text": [
            "{1, 2, 3, 4, 5}\n",
            "{1, 2, 3, 4, 5}\n"
          ]
        }
      ]
    },
    {
      "cell_type": "code",
      "source": [
        "#intersection(&)\n",
        "s1 = {1,2,3}\n",
        "s2 = {3,4,5}\n",
        "print(s1&s2)\n",
        "print(s1.intersection(s2))"
      ],
      "metadata": {
        "colab": {
          "base_uri": "https://localhost:8080/"
        },
        "id": "et6vQEt-QvrY",
        "outputId": "007ff26e-95cc-4361-a9cc-423fc40c944b"
      },
      "execution_count": null,
      "outputs": [
        {
          "output_type": "stream",
          "name": "stdout",
          "text": [
            "{3}\n",
            "{3}\n"
          ]
        }
      ]
    },
    {
      "cell_type": "code",
      "source": [
        "#difference(-)\n",
        "print(s1 - s2) # s1 ke vo items jo s2 mai present nhi hai\n",
        "print(s1.difference(s2))\n",
        "print(s2-s1)"
      ],
      "metadata": {
        "colab": {
          "base_uri": "https://localhost:8080/"
        },
        "id": "83pyLYNSQ4WV",
        "outputId": "0f1c50c7-97d3-468c-9b58-2ed5480f0312"
      },
      "execution_count": null,
      "outputs": [
        {
          "output_type": "stream",
          "name": "stdout",
          "text": [
            "{1, 2}\n",
            "{1, 2}\n",
            "{4, 5}\n"
          ]
        }
      ]
    },
    {
      "cell_type": "code",
      "source": [
        "#symmetric difference(^)  ----->common ko chor ke baaki sb print ho jaayega\n",
        "print(s1^s2)\n",
        "print(s1.symmetric_difference(s2))"
      ],
      "metadata": {
        "colab": {
          "base_uri": "https://localhost:8080/"
        },
        "id": "dsUHdXc7Q-oy",
        "outputId": "464b97d4-f02b-410f-d3d0-755dd1651207"
      },
      "execution_count": null,
      "outputs": [
        {
          "output_type": "stream",
          "name": "stdout",
          "text": [
            "{1, 2, 4, 5}\n",
            "{1, 2, 4, 5}\n"
          ]
        }
      ]
    },
    {
      "cell_type": "code",
      "source": [
        "#membership test\n",
        "1 in s1\n",
        "1 not in s1"
      ],
      "metadata": {
        "colab": {
          "base_uri": "https://localhost:8080/"
        },
        "id": "1nZ2KY19RWtM",
        "outputId": "b86f950f-1d7e-4ed0-e600-f6cb87ef54a4"
      },
      "execution_count": null,
      "outputs": [
        {
          "output_type": "execute_result",
          "data": {
            "text/plain": [
              "False"
            ]
          },
          "metadata": {},
          "execution_count": 100
        }
      ]
    },
    {
      "cell_type": "code",
      "source": [
        "# iterations\n",
        "for i in s1:\n",
        "  print(s1)\n",
        "  print(i)"
      ],
      "metadata": {
        "colab": {
          "base_uri": "https://localhost:8080/"
        },
        "id": "2qtYaSytRmZ9",
        "outputId": "398a40ea-bd69-45df-ca9d-d9369c6db3c0"
      },
      "execution_count": null,
      "outputs": [
        {
          "output_type": "stream",
          "name": "stdout",
          "text": [
            "{1, 2, 3}\n",
            "1\n",
            "{1, 2, 3}\n",
            "2\n",
            "{1, 2, 3}\n",
            "3\n"
          ]
        }
      ]
    },
    {
      "cell_type": "markdown",
      "source": [
        "set functions"
      ],
      "metadata": {
        "id": "28BjK6ZwRyJp"
      }
    },
    {
      "cell_type": "code",
      "source": [
        "#len/sum/min/max/sorted\n",
        "s={6,7,1,2,3,4}\n",
        "print(len(s))\n",
        "print(max(s))\n",
        "print(min(s))\n",
        "print(sorted(s))\n",
        "print(sorted(s, reverse=True))"
      ],
      "metadata": {
        "colab": {
          "base_uri": "https://localhost:8080/"
        },
        "id": "Nn5GkQbZRtq5",
        "outputId": "a17aa315-af86-4c10-9cd6-9baaae1fc9f4"
      },
      "execution_count": null,
      "outputs": [
        {
          "output_type": "stream",
          "name": "stdout",
          "text": [
            "6\n",
            "7\n",
            "1\n",
            "[1, 2, 3, 4, 6, 7]\n",
            "[7, 6, 4, 3, 2, 1]\n"
          ]
        }
      ]
    },
    {
      "cell_type": "code",
      "source": [
        "#union/update\n",
        "s1 = {1,2,3}\n",
        "s2 = {3,4,5}\n",
        "s1.union(s2)\n",
        "print(s1|s2)\n",
        "\n",
        "print('update')\n",
        "s1.update(s2) #permanent change , # jisko update kr rhe ho usmai 2nd set ke items add hokr aa jaate hai\n",
        "print(s1)\n",
        "print(s2)"
      ],
      "metadata": {
        "colab": {
          "base_uri": "https://localhost:8080/"
        },
        "id": "ZD7Yy75BR3A5",
        "outputId": "2db9b476-0ff3-41a8-9463-b593b49ef86f"
      },
      "execution_count": null,
      "outputs": [
        {
          "output_type": "stream",
          "name": "stdout",
          "text": [
            "{1, 2, 3, 4, 5}\n",
            "update\n",
            "{1, 2, 3, 4, 5}\n",
            "{3, 4, 5}\n"
          ]
        }
      ]
    },
    {
      "cell_type": "code",
      "source": [
        "#intersection/intersection_update\n",
        "s1 = {1,2,3,4,5}\n",
        "s2 = {3,4,5,6,7,8}\n",
        "s1.intersection(s2)\n",
        "\n",
        "print('intersection_update')\n",
        "s1.intersection_update(s2) #permanent change\n",
        "print(s1)\n",
        "print(s2)"
      ],
      "metadata": {
        "colab": {
          "base_uri": "https://localhost:8080/"
        },
        "id": "tqIkYn5ESfGj",
        "outputId": "8126ddc2-9d12-4574-cefa-e440efe5ac1c"
      },
      "execution_count": null,
      "outputs": [
        {
          "output_type": "stream",
          "name": "stdout",
          "text": [
            "intersection_update\n",
            "{3, 4, 5}\n",
            "{3, 4, 5, 6, 7, 8}\n"
          ]
        }
      ]
    },
    {
      "cell_type": "code",
      "source": [
        "#difference/difference_update\n",
        "s1 = {1,2,3,4,5}\n",
        "s2 = {3,4,5,6,7,8}\n",
        "s1.intersection(s2)\n",
        "\n",
        "print('difference_update')\n",
        "s1.difference_update(s2) #permanent change\n",
        "print(s1)\n",
        "print(s2)"
      ],
      "metadata": {
        "colab": {
          "base_uri": "https://localhost:8080/"
        },
        "id": "3TAWM3VhTeTZ",
        "outputId": "5e2adac8-a093-4704-8f19-16c81325ed0e"
      },
      "execution_count": null,
      "outputs": [
        {
          "output_type": "stream",
          "name": "stdout",
          "text": [
            "difference_update\n",
            "{1, 2}\n",
            "{3, 4, 5, 6, 7, 8}\n"
          ]
        }
      ]
    },
    {
      "cell_type": "code",
      "source": [
        "#isdisjoint. ----> jis mai ek bhi item common nhi hota\n",
        "s1={1,2,3,4}\n",
        "s2={3,4,5,6}\n",
        "s1.isdisjoint(s2)"
      ],
      "metadata": {
        "colab": {
          "base_uri": "https://localhost:8080/"
        },
        "id": "rG7SwwmUUAc3",
        "outputId": "678c9b13-eded-476b-e8bf-3ad439df001a"
      },
      "execution_count": null,
      "outputs": [
        {
          "output_type": "execute_result",
          "data": {
            "text/plain": [
              "False"
            ]
          },
          "metadata": {},
          "execution_count": 120
        }
      ]
    },
    {
      "cell_type": "code",
      "source": [
        "#issubset\n",
        "s1={1,2,3,4,5}\n",
        "s2={3,4,5}\n",
        "s2.issubset(s1)\n",
        "s1.issubset(s2)"
      ],
      "metadata": {
        "colab": {
          "base_uri": "https://localhost:8080/"
        },
        "id": "s3uyJ3XJUQbC",
        "outputId": "7e3abdfd-2faf-4c12-9fc6-7b6185d07a4e"
      },
      "execution_count": null,
      "outputs": [
        {
          "output_type": "execute_result",
          "data": {
            "text/plain": [
              "False"
            ]
          },
          "metadata": {},
          "execution_count": 121
        }
      ]
    },
    {
      "cell_type": "code",
      "source": [
        "#issuperset\n",
        "s1={1,2,3,4,5}\n",
        "s2={3,4,5}\n",
        "s1.issuperset(s2)"
      ],
      "metadata": {
        "colab": {
          "base_uri": "https://localhost:8080/"
        },
        "id": "v88hEHqQUtT_",
        "outputId": "d50bec9c-fb98-4e00-dc75-186fcdf56dcb"
      },
      "execution_count": null,
      "outputs": [
        {
          "output_type": "execute_result",
          "data": {
            "text/plain": [
              "True"
            ]
          },
          "metadata": {},
          "execution_count": 124
        }
      ]
    },
    {
      "cell_type": "code",
      "source": [
        "#copy   ----> shallow copy create krega\n",
        "s1={1,2,3,4,5}\n",
        "s2=s1.copy()\n",
        "print(id(s1))\n",
        "print(id(s2))   #dono ka address alg hoga"
      ],
      "metadata": {
        "colab": {
          "base_uri": "https://localhost:8080/"
        },
        "id": "Pw_rW-47Uypf",
        "outputId": "0f15ab56-1428-4bef-a10c-5ebf20d7f2eb"
      },
      "execution_count": null,
      "outputs": [
        {
          "output_type": "stream",
          "name": "stdout",
          "text": [
            "139257494893312\n",
            "139257480081504\n"
          ]
        }
      ]
    },
    {
      "cell_type": "markdown",
      "source": [
        "Frozenset\n",
        "\n",
        "---\n",
        "frozen set is just an immutable version of python set objects , means naye items add nhi honge aur purane items delete nhi honge\n"
      ],
      "metadata": {
        "id": "cUPnxKCaVSMM"
      }
    },
    {
      "cell_type": "code",
      "source": [
        "#create frozenset\n",
        "fs = frozenset([1,2,3,4])\n",
        "print(fs)\n",
        "print(type(fs))"
      ],
      "metadata": {
        "colab": {
          "base_uri": "https://localhost:8080/"
        },
        "id": "6ZsBNV0VVCDX",
        "outputId": "8ff5978a-a273-43d1-8cbe-96c4db2eaa46"
      },
      "execution_count": null,
      "outputs": [
        {
          "output_type": "stream",
          "name": "stdout",
          "text": [
            "frozenset({1, 2, 3, 4})\n",
            "<class 'frozenset'>\n"
          ]
        }
      ]
    },
    {
      "cell_type": "code",
      "source": [
        "fs1= frozenset([1,2,3,4])\n",
        "fs2= frozenset([3,4,5,6])\n",
        "print(fs1.union(fs2))\n",
        "print(fs1.intersection(fs2))   #union intersection vo sb kaam krenge"
      ],
      "metadata": {
        "colab": {
          "base_uri": "https://localhost:8080/"
        },
        "id": "EPI-10jlVpIk",
        "outputId": "df145871-6ad5-4e82-b8c5-80b186a2c76a"
      },
      "execution_count": null,
      "outputs": [
        {
          "output_type": "stream",
          "name": "stdout",
          "text": [
            "frozenset({1, 2, 3, 4, 5, 6})\n",
            "frozenset({3, 4})\n"
          ]
        }
      ]
    },
    {
      "cell_type": "code",
      "source": [
        "#what works and what does not\n",
        "# works --> all read functions\n",
        "# doesn't work ---> write operations"
      ],
      "metadata": {
        "id": "U8GnpdmWV3Dx"
      },
      "execution_count": null,
      "outputs": []
    },
    {
      "cell_type": "code",
      "source": [
        "#when to use\n",
        "#2D sets\n",
        "fs =frozenset([1,2,frozenset([4,5])])\n",
        "fs"
      ],
      "metadata": {
        "colab": {
          "base_uri": "https://localhost:8080/"
        },
        "id": "rW2frzyLWKcR",
        "outputId": "4d64864f-3d9f-4ffa-a052-bc29bd9332b6"
      },
      "execution_count": null,
      "outputs": [
        {
          "output_type": "execute_result",
          "data": {
            "text/plain": [
              "frozenset({1, 2, frozenset({4, 5})})"
            ]
          },
          "metadata": {},
          "execution_count": 133
        }
      ]
    },
    {
      "cell_type": "markdown",
      "source": [
        "Set Comprehension"
      ],
      "metadata": {
        "id": "uAsLwi7BWeGr"
      }
    },
    {
      "cell_type": "code",
      "source": [
        "#examples\n",
        "{i for i in range(1,11) }"
      ],
      "metadata": {
        "colab": {
          "base_uri": "https://localhost:8080/"
        },
        "id": "dgfyShfcWYIZ",
        "outputId": "673df76b-c629-4b1e-944e-a1ebe4b73b81"
      },
      "execution_count": null,
      "outputs": [
        {
          "output_type": "execute_result",
          "data": {
            "text/plain": [
              "{1, 2, 3, 4, 5, 6, 7, 8, 9, 10}"
            ]
          },
          "metadata": {},
          "execution_count": 134
        }
      ]
    },
    {
      "cell_type": "code",
      "source": [
        "{i for i in range(1,11) if i>5}"
      ],
      "metadata": {
        "colab": {
          "base_uri": "https://localhost:8080/"
        },
        "id": "5n9m-F_cWoEB",
        "outputId": "deabc848-8e16-4a5b-cca8-2582c57c06e1"
      },
      "execution_count": null,
      "outputs": [
        {
          "output_type": "execute_result",
          "data": {
            "text/plain": [
              "{6, 7, 8, 9, 10}"
            ]
          },
          "metadata": {},
          "execution_count": 135
        }
      ]
    },
    {
      "cell_type": "code",
      "source": [
        "{i**2 for i in range(1,11) }"
      ],
      "metadata": {
        "colab": {
          "base_uri": "https://localhost:8080/"
        },
        "id": "rSt0Q9LqWr2o",
        "outputId": "031aa061-6e98-483b-f202-8e085727c466"
      },
      "execution_count": null,
      "outputs": [
        {
          "output_type": "execute_result",
          "data": {
            "text/plain": [
              "{1, 4, 9, 16, 25, 36, 49, 64, 81, 100}"
            ]
          },
          "metadata": {},
          "execution_count": 136
        }
      ]
    },
    {
      "cell_type": "code",
      "source": [],
      "metadata": {
        "id": "iKNKXSf_WtzQ"
      },
      "execution_count": null,
      "outputs": []
    },
    {
      "cell_type": "code",
      "source": [],
      "metadata": {
        "id": "UYW9w33FWxKP"
      },
      "execution_count": null,
      "outputs": []
    },
    {
      "cell_type": "code",
      "source": [],
      "metadata": {
        "id": "qgrBVaBcWxHI"
      },
      "execution_count": null,
      "outputs": []
    },
    {
      "cell_type": "code",
      "source": [],
      "metadata": {
        "id": "bnCeFX1YWw-C"
      },
      "execution_count": null,
      "outputs": []
    },
    {
      "cell_type": "markdown",
      "source": [
        "# Dictionary\n",
        "\n",
        "---\n",
        "\n",
        "it is a collection of key and value pair, used to store values like a map ,which , unlike other datea types which hold only a singlw value as an element\n",
        "\n",
        "\n",
        "---\n",
        "\n",
        "\n",
        "*   mutable\n",
        "*   Indexing has no meaning\n",
        "*   keys can't be duplicate\n",
        "*   keys can't be mutable items\n"
      ],
      "metadata": {
        "id": "FbFpifOGWxyD"
      }
    },
    {
      "cell_type": "code",
      "source": [
        "#empty dictionary\n",
        "d={}\n",
        "d"
      ],
      "metadata": {
        "colab": {
          "base_uri": "https://localhost:8080/"
        },
        "id": "msLOOEReWzBz",
        "outputId": "519e0e27-c02a-4a50-9eba-73adc1edf50c"
      },
      "execution_count": null,
      "outputs": [
        {
          "output_type": "execute_result",
          "data": {
            "text/plain": [
              "{}"
            ]
          },
          "metadata": {},
          "execution_count": 138
        }
      ]
    },
    {
      "cell_type": "code",
      "source": [
        "#1d dictionary\n",
        "d1={'name':'harsh','gender': 'male'}  #homogenous dictionary because keys are of one type***\n",
        "d1"
      ],
      "metadata": {
        "colab": {
          "base_uri": "https://localhost:8080/"
        },
        "id": "Hqd6Qc5-Xv-F",
        "outputId": "243a7dcd-cb2e-4b48-83d4-f15381f91c53"
      },
      "execution_count": null,
      "outputs": [
        {
          "output_type": "execute_result",
          "data": {
            "text/plain": [
              "{'name': 'harsh', 'gender': 'male'}"
            ]
          },
          "metadata": {},
          "execution_count": 140
        }
      ]
    },
    {
      "cell_type": "code",
      "source": [
        "#mixed type of dictionary\n",
        "d2={(1,2,3):1,'hello':'world'}  #because there are two types of keys\n",
        "d2"
      ],
      "metadata": {
        "colab": {
          "base_uri": "https://localhost:8080/"
        },
        "id": "QnBZVF51X9in",
        "outputId": "fdefe3e7-0d2f-47e4-c8e2-8be1638efcc5"
      },
      "execution_count": null,
      "outputs": [
        {
          "output_type": "execute_result",
          "data": {
            "text/plain": [
              "{(1, 2, 3): 1, 'hello': 'world'}"
            ]
          },
          "metadata": {},
          "execution_count": 143
        }
      ]
    },
    {
      "cell_type": "code",
      "source": [
        "#2D dictionary      -------> JSON\n",
        "s={\n",
        "    'name':'harsh',\n",
        "    'college':'mait',\n",
        "    'sem':4,\n",
        "    'subjects':{      #it has 4 key value pairs\n",
        "        'dsa':90,\n",
        "        'dld':98,\n",
        "        'maths':99,\n",
        "        'eng':95\n",
        "    }\n",
        "}\n",
        "s"
      ],
      "metadata": {
        "colab": {
          "base_uri": "https://localhost:8080/"
        },
        "id": "rrQ-v6GZYWfh",
        "outputId": "f2c24761-bb22-4dc6-fe41-b416b70c5b95"
      },
      "execution_count": null,
      "outputs": [
        {
          "output_type": "execute_result",
          "data": {
            "text/plain": [
              "{'name': 'harsh',\n",
              " 'college': 'mait',\n",
              " 'sem': 4,\n",
              " 'subjects': {'dsa': 90, 'dld': 98, 'maths': 99, 'eng': 95}}"
            ]
          },
          "metadata": {},
          "execution_count": 147
        }
      ]
    },
    {
      "cell_type": "code",
      "source": [
        "#using dict function\n",
        "d=dict(name='harsh',gender='male')\n",
        "print(d)\n",
        "d1=dict([(1,1),(2,2),(3,3)]) #list of tuples\n",
        "print(d1)\n",
        "d2=dict([('name','harsh'),('age',12),(3,3)])\n",
        "print(d2)"
      ],
      "metadata": {
        "colab": {
          "base_uri": "https://localhost:8080/"
        },
        "id": "S-_Jc4XDZCAM",
        "outputId": "0c28109c-d9e9-474f-9495-6ae28ab6eea0"
      },
      "execution_count": null,
      "outputs": [
        {
          "output_type": "stream",
          "name": "stdout",
          "text": [
            "{'name': 'harsh', 'gender': 'male'}\n",
            "{1: 1, 2: 2, 3: 3}\n",
            "{'name': 'harsh', 'age': 12, 3: 3}\n"
          ]
        }
      ]
    },
    {
      "cell_type": "code",
      "source": [
        "#accessing items\n",
        "my_dict={'name':'harsh','gender':'male'}\n",
        "#by passing key\n",
        "print(my_dict['name'])  #my_dict[0] -----> will throw an error\n",
        "#use get function\n",
        "print(my_dict.get('name'))"
      ],
      "metadata": {
        "colab": {
          "base_uri": "https://localhost:8080/"
        },
        "id": "rbhZ_uU4ZncB",
        "outputId": "58254134-898c-4f44-d02f-ff77f5ba3872"
      },
      "execution_count": null,
      "outputs": [
        {
          "output_type": "stream",
          "name": "stdout",
          "text": [
            "harsh\n",
            "harsh\n"
          ]
        }
      ]
    },
    {
      "cell_type": "code",
      "source": [
        "#adding new key value pair\n",
        "d4=dict([('name','harsh'),('age',12),(3,3)])\n",
        "d4['gender']='male'\n",
        "print(d4)\n",
        "d4['weight']=50\n",
        "print(d4)"
      ],
      "metadata": {
        "colab": {
          "base_uri": "https://localhost:8080/"
        },
        "id": "hi2P0mgoaOVL",
        "outputId": "5b088323-b38a-428a-c68e-5072a870b075"
      },
      "execution_count": null,
      "outputs": [
        {
          "output_type": "stream",
          "name": "stdout",
          "text": [
            "{'name': 'harsh', 'age': 12, 3: 3, 'gender': 'male'}\n",
            "{'name': 'harsh', 'age': 12, 3: 3, 'gender': 'male', 'weight': 50}\n"
          ]
        }
      ]
    },
    {
      "cell_type": "code",
      "source": [
        "#remove key-value pair\n",
        "#pop\n",
        "d5={'name': 'harsh', 'age': 12, 3: 3, 'gender': 'male', 'weight': 50}\n",
        "d5.pop(3)   #----> 3 waali key ka pair remove ho jaayega\n",
        "d5"
      ],
      "metadata": {
        "colab": {
          "base_uri": "https://localhost:8080/"
        },
        "id": "0s4YyIiua0VO",
        "outputId": "23ace843-63e0-4440-96ce-7dc1eebd47e8"
      },
      "execution_count": null,
      "outputs": [
        {
          "output_type": "execute_result",
          "data": {
            "text/plain": [
              "{'name': 'harsh', 'age': 12, 'gender': 'male', 'weight': 50}"
            ]
          },
          "metadata": {},
          "execution_count": 169
        }
      ]
    },
    {
      "cell_type": "code",
      "source": [
        "#popitem\n",
        "d6={'name': 'harsh', 'age': 12, 3: 3, 'gender': 'male', 'weight': 50}\n",
        "d6.popitem()    #---> last walla key value pair delete hoga\n",
        "d6"
      ],
      "metadata": {
        "colab": {
          "base_uri": "https://localhost:8080/"
        },
        "id": "flU-wjnJbTPd",
        "outputId": "3e068a18-b160-4c72-eade-5a31036ffbc4"
      },
      "execution_count": null,
      "outputs": [
        {
          "output_type": "execute_result",
          "data": {
            "text/plain": [
              "{'name': 'harsh', 'age': 12, 3: 3, 'gender': 'male'}"
            ]
          },
          "metadata": {},
          "execution_count": 174
        }
      ]
    },
    {
      "cell_type": "code",
      "source": [
        "#del    ---> to remove whole dict or specific key value pair\n",
        "d6={'name': 'harsh', 'age': 12, 3: 3, 'gender': 'male', 'weight': 50}\n",
        "del d6['name']\n",
        "d6"
      ],
      "metadata": {
        "colab": {
          "base_uri": "https://localhost:8080/"
        },
        "id": "nTTk5r6xb0fO",
        "outputId": "910aaef1-bee9-4558-b83d-180785b626b1"
      },
      "execution_count": null,
      "outputs": [
        {
          "output_type": "execute_result",
          "data": {
            "text/plain": [
              "{'age': 12, 3: 3, 'gender': 'male', 'weight': 50}"
            ]
          },
          "metadata": {},
          "execution_count": 177
        }
      ]
    },
    {
      "cell_type": "code",
      "source": [
        "#clear\n",
        "d6.clear()\n",
        "d6"
      ],
      "metadata": {
        "colab": {
          "base_uri": "https://localhost:8080/"
        },
        "id": "oxyiboRGcM3f",
        "outputId": "0cfbb63e-6861-44da-aa26-e4888f48cb62"
      },
      "execution_count": null,
      "outputs": [
        {
          "output_type": "execute_result",
          "data": {
            "text/plain": [
              "{}"
            ]
          },
          "metadata": {},
          "execution_count": 180
        }
      ]
    },
    {
      "cell_type": "code",
      "source": [
        "s={\n",
        "    'name':'harsh',\n",
        "    'college':'mait',\n",
        "    'sem':4,\n",
        "    'subject':{      #it has 4 key value pairs\n",
        "        'dsa':90,\n",
        "        'dld':98,\n",
        "        'maths':99,\n",
        "        'eng':95\n",
        "    }\n",
        "}\n",
        "print(s['subject'])\n",
        "print(s['subject']['maths'])\n",
        "\n",
        "\n",
        "s['subject']['DS']=94\n",
        "print(s['subject']['DS'])"
      ],
      "metadata": {
        "colab": {
          "base_uri": "https://localhost:8080/"
        },
        "id": "u-M2Jf1-cjcT",
        "outputId": "c18a3595-7bc2-4c0a-8408-b7da7791fefa"
      },
      "execution_count": null,
      "outputs": [
        {
          "output_type": "stream",
          "name": "stdout",
          "text": [
            "{'dsa': 90, 'dld': 98, 'maths': 99, 'eng': 95}\n",
            "99\n",
            "94\n"
          ]
        }
      ]
    },
    {
      "cell_type": "code",
      "source": [
        "del s['subject']['maths']\n",
        "s"
      ],
      "metadata": {
        "colab": {
          "base_uri": "https://localhost:8080/"
        },
        "id": "kw2qh3oMc4Bh",
        "outputId": "555f5433-0d19-4e2b-ac63-064186d96063"
      },
      "execution_count": null,
      "outputs": [
        {
          "output_type": "execute_result",
          "data": {
            "text/plain": [
              "{'name': 'harsh',\n",
              " 'college': 'mait',\n",
              " 'sem': 4,\n",
              " 'subject': {'dsa': 90, 'dld': 98, 'eng': 95, 'DS': 94}}"
            ]
          },
          "metadata": {},
          "execution_count": 203
        }
      ]
    },
    {
      "cell_type": "code",
      "source": [
        "#editing key value pair\n",
        "s['sem']=5\n",
        "s"
      ],
      "metadata": {
        "colab": {
          "base_uri": "https://localhost:8080/"
        },
        "id": "JWokpRGxd0Wc",
        "outputId": "def07605-831a-4cd4-e0ef-05b9a4700ac9"
      },
      "execution_count": null,
      "outputs": [
        {
          "output_type": "execute_result",
          "data": {
            "text/plain": [
              "{'name': 'harsh',\n",
              " 'college': 'mait',\n",
              " 'sem': 5,\n",
              " 'subject': {'dsa': 90, 'dld': 98, 'eng': 95, 'DS': 94}}"
            ]
          },
          "metadata": {},
          "execution_count": 204
        }
      ]
    },
    {
      "cell_type": "code",
      "source": [
        "s['subject']['dsa'] = 96\n",
        "s"
      ],
      "metadata": {
        "colab": {
          "base_uri": "https://localhost:8080/"
        },
        "id": "dHAZbsczeCNw",
        "outputId": "653bc98f-41b5-405a-d039-2778dec3d458"
      },
      "execution_count": null,
      "outputs": [
        {
          "output_type": "execute_result",
          "data": {
            "text/plain": [
              "{'name': 'harsh',\n",
              " 'college': 'mait',\n",
              " 'sem': 5,\n",
              " 'subject': {'dsa': 96, 'dld': 98, 'eng': 95, 'DS': 94}}"
            ]
          },
          "metadata": {},
          "execution_count": 206
        }
      ]
    },
    {
      "cell_type": "markdown",
      "source": [
        "# Dictionary Operations\n",
        "\n",
        "---\n",
        "\n",
        "\n",
        "\n",
        "*   membership\n",
        "*   iteration\n",
        "\n"
      ],
      "metadata": {
        "id": "FYxyuKWJetPs"
      }
    },
    {
      "cell_type": "code",
      "source": [
        "#membership\n",
        "print(s)\n",
        "'harsh' in s  # false because in dict everything is about keys"
      ],
      "metadata": {
        "colab": {
          "base_uri": "https://localhost:8080/"
        },
        "id": "jEDsu1FmeI-a",
        "outputId": "9fcbda5a-f467-4daf-e116-9e7f7a671e7e"
      },
      "execution_count": null,
      "outputs": [
        {
          "output_type": "stream",
          "name": "stdout",
          "text": [
            "{'name': 'harsh', 'college': 'mait', 'sem': 5, 'subject': {'dsa': 96, 'dld': 98, 'eng': 95, 'DS': 94}}\n"
          ]
        },
        {
          "output_type": "execute_result",
          "data": {
            "text/plain": [
              "False"
            ]
          },
          "metadata": {},
          "execution_count": 209
        }
      ]
    },
    {
      "cell_type": "code",
      "source": [
        "'name' in s"
      ],
      "metadata": {
        "colab": {
          "base_uri": "https://localhost:8080/"
        },
        "id": "QtJlqRule4so",
        "outputId": "995328e3-a690-40b2-c7fe-a786b3b44d96"
      },
      "execution_count": null,
      "outputs": [
        {
          "output_type": "execute_result",
          "data": {
            "text/plain": [
              "True"
            ]
          },
          "metadata": {},
          "execution_count": 210
        }
      ]
    },
    {
      "cell_type": "code",
      "source": [
        "d={'name':'harsh','gender':'male','age':20}\n",
        "for i in d:\n",
        "  print(i)  #keys hi print hongi*****\n",
        "\n",
        "print(' ')\n",
        "for i in d:\n",
        "  print(i,d[i]) #values aur keys dono print hongi\n",
        "print(' ')\n",
        "for i in d.values():\n",
        "  print(i)"
      ],
      "metadata": {
        "colab": {
          "base_uri": "https://localhost:8080/"
        },
        "id": "99jWamG0fFww",
        "outputId": "e06fffd2-1987-46ab-d6b1-b8637354de11"
      },
      "execution_count": null,
      "outputs": [
        {
          "output_type": "stream",
          "name": "stdout",
          "text": [
            "name\n",
            "gender\n",
            "age\n",
            " \n",
            "name harsh\n",
            "gender male\n",
            "age 20\n",
            " \n",
            "harsh\n",
            "male\n",
            "20\n"
          ]
        }
      ]
    },
    {
      "cell_type": "markdown",
      "source": [
        "Dictionary functions"
      ],
      "metadata": {
        "id": "eskVTpQmfnWP"
      }
    },
    {
      "cell_type": "code",
      "source": [
        "#len/sorted\n",
        "len(d)  #give no. of key value pair\n",
        "\n"
      ],
      "metadata": {
        "colab": {
          "base_uri": "https://localhost:8080/"
        },
        "id": "KNcWb2zDfOtC",
        "outputId": "5d864363-529a-4730-adba-68707a423027"
      },
      "execution_count": null,
      "outputs": [
        {
          "output_type": "execute_result",
          "data": {
            "text/plain": [
              "['age', 'gender', 'name']"
            ]
          },
          "metadata": {},
          "execution_count": 218
        }
      ]
    },
    {
      "cell_type": "code",
      "source": [
        "sorted(d) #arrange keys"
      ],
      "metadata": {
        "colab": {
          "base_uri": "https://localhost:8080/"
        },
        "id": "vmy4JqVAfsJz",
        "outputId": "6515a2ce-f3f9-4d87-c9d1-81afa2351237"
      },
      "execution_count": null,
      "outputs": [
        {
          "output_type": "execute_result",
          "data": {
            "text/plain": [
              "['age', 'gender', 'name']"
            ]
          },
          "metadata": {},
          "execution_count": 219
        }
      ]
    },
    {
      "cell_type": "code",
      "source": [
        "sorted(d,reverse=True) #arrange keys"
      ],
      "metadata": {
        "colab": {
          "base_uri": "https://localhost:8080/"
        },
        "id": "z_B-m92nf2zV",
        "outputId": "5487c88c-36ee-46e3-b470-c982689b3e7e"
      },
      "execution_count": null,
      "outputs": [
        {
          "output_type": "execute_result",
          "data": {
            "text/plain": [
              "['name', 'gender', 'age']"
            ]
          },
          "metadata": {},
          "execution_count": 220
        }
      ]
    },
    {
      "cell_type": "code",
      "source": [
        "#items    ---> print all elements in key value pair in TUPLE\n",
        "print(d)\n",
        "print(d.items())"
      ],
      "metadata": {
        "colab": {
          "base_uri": "https://localhost:8080/"
        },
        "id": "_1-E11N7f5NN",
        "outputId": "251d0efb-ed30-41b9-d2dd-da3df07b7a38"
      },
      "execution_count": null,
      "outputs": [
        {
          "output_type": "stream",
          "name": "stdout",
          "text": [
            "{'name': 'harsh', 'gender': 'male', 'age': 20}\n",
            "dict_items([('name', 'harsh'), ('gender', 'male'), ('age', 20)])\n"
          ]
        }
      ]
    },
    {
      "cell_type": "code",
      "source": [
        "#keys\n",
        "print(d.keys())"
      ],
      "metadata": {
        "colab": {
          "base_uri": "https://localhost:8080/"
        },
        "id": "sLw78hsZf--Q",
        "outputId": "a3e35b65-6091-4c90-9f1d-037c73a0d7fe"
      },
      "execution_count": null,
      "outputs": [
        {
          "output_type": "stream",
          "name": "stdout",
          "text": [
            "dict_keys(['name', 'gender', 'age'])\n"
          ]
        }
      ]
    },
    {
      "cell_type": "code",
      "source": [
        "#values\n",
        "print(d.values())"
      ],
      "metadata": {
        "colab": {
          "base_uri": "https://localhost:8080/"
        },
        "id": "L7QhVJXmgN5D",
        "outputId": "fa6a892e-9e8a-4bed-a9c5-ab1b47de26d1"
      },
      "execution_count": null,
      "outputs": [
        {
          "output_type": "stream",
          "name": "stdout",
          "text": [
            "dict_values(['harsh', 'male', 20])\n"
          ]
        }
      ]
    },
    {
      "cell_type": "code",
      "source": [
        "#update\n",
        "d1={'name':'harsh','gender':'male'}\n",
        "d2={'age':20}\n",
        "d1.update(d2)\n",
        "print(d1)"
      ],
      "metadata": {
        "colab": {
          "base_uri": "https://localhost:8080/"
        },
        "id": "I1iL5AU0gPU1",
        "outputId": "f114cde6-69a1-446d-b120-972571169acc"
      },
      "execution_count": null,
      "outputs": [
        {
          "output_type": "stream",
          "name": "stdout",
          "text": [
            "{'name': 'harsh', 'gender': 'male', 'age': 20}\n"
          ]
        }
      ]
    },
    {
      "cell_type": "markdown",
      "source": [
        "# **Dictionary Comprehension**"
      ],
      "metadata": {
        "id": "FMaqNTwwgX9U"
      }
    },
    {
      "cell_type": "code",
      "source": [
        "#{key : value for vars in iterable}"
      ],
      "metadata": {
        "id": "u4jCQb-tgUUH"
      },
      "execution_count": null,
      "outputs": []
    },
    {
      "cell_type": "code",
      "source": [
        "#print 1st 10 numbers and their squares\n",
        "{i:i**2 for i in range(1,11)}"
      ],
      "metadata": {
        "colab": {
          "base_uri": "https://localhost:8080/"
        },
        "id": "fjqDl2vVgy8_",
        "outputId": "a828e5c9-7a01-4620-f1b1-1efd9135e5ae"
      },
      "execution_count": null,
      "outputs": [
        {
          "output_type": "execute_result",
          "data": {
            "text/plain": [
              "{1: 1, 2: 4, 3: 9, 4: 16, 5: 25, 6: 36, 7: 49, 8: 64, 9: 81, 10: 100}"
            ]
          },
          "metadata": {},
          "execution_count": 227
        }
      ]
    },
    {
      "cell_type": "code",
      "source": [
        "#using an existing dict\n",
        "distances={'delhi':1000,'mumbai':2000,'goa':3000}\n",
        "{key:value*0.62 for (key,value) in distances.items()}"
      ],
      "metadata": {
        "colab": {
          "base_uri": "https://localhost:8080/"
        },
        "id": "HrlHEZm9g6lO",
        "outputId": "7dab6d52-8e0a-41f9-f500-8a25a5a1b7ec"
      },
      "execution_count": null,
      "outputs": [
        {
          "output_type": "execute_result",
          "data": {
            "text/plain": [
              "{'delhi': 620.0, 'mumbai': 1240.0, 'goa': 1860.0}"
            ]
          },
          "metadata": {},
          "execution_count": 228
        }
      ]
    },
    {
      "cell_type": "code",
      "source": [
        "#using zip\n",
        "days = [\"sunday\",\"monday\",'tuesday','wednesday','thursday','friday','saturday']\n",
        "tempC= [23,23,34,54,65,12,23]\n",
        "{i:j for (i,j) in zip(days,tempC)}"
      ],
      "metadata": {
        "colab": {
          "base_uri": "https://localhost:8080/"
        },
        "id": "CDe2C11OhOAi",
        "outputId": "6242b701-126f-4109-c075-0fa17e2633be"
      },
      "execution_count": null,
      "outputs": [
        {
          "output_type": "execute_result",
          "data": {
            "text/plain": [
              "{'sunday': 23,\n",
              " 'monday': 23,\n",
              " 'tuesday': 34,\n",
              " 'wednesday': 54,\n",
              " 'thursday': 65,\n",
              " 'friday': 12,\n",
              " 'saturday': 23}"
            ]
          },
          "metadata": {},
          "execution_count": 230
        }
      ]
    },
    {
      "cell_type": "code",
      "source": [
        "#using if condition\n",
        "products = {'phone':10,'laptop':0,'charger':32,'tablet':0}\n",
        "{key:value for (key,value) in products.items() if value>0}"
      ],
      "metadata": {
        "colab": {
          "base_uri": "https://localhost:8080/"
        },
        "id": "WZjNj6vth4Xh",
        "outputId": "d5caee76-6a39-43bd-f655-f8b59f220324"
      },
      "execution_count": null,
      "outputs": [
        {
          "output_type": "execute_result",
          "data": {
            "text/plain": [
              "{'phone': 10, 'charger': 32}"
            ]
          },
          "metadata": {},
          "execution_count": 231
        }
      ]
    },
    {
      "cell_type": "code",
      "source": [
        "#nested comprehension\n",
        "#print tables of number from 2 to 4\n",
        "{i:{j:i*j for j in range(1,11)} for i in range(2,5)}"
      ],
      "metadata": {
        "colab": {
          "base_uri": "https://localhost:8080/"
        },
        "id": "xzUPfCt1iMfo",
        "outputId": "70f4fc67-b442-4616-b47f-7ab3ab95b8f7"
      },
      "execution_count": null,
      "outputs": [
        {
          "output_type": "execute_result",
          "data": {
            "text/plain": [
              "{2: {1: 2, 2: 4, 3: 6, 4: 8, 5: 10, 6: 12, 7: 14, 8: 16, 9: 18, 10: 20},\n",
              " 3: {1: 3, 2: 6, 3: 9, 4: 12, 5: 15, 6: 18, 7: 21, 8: 24, 9: 27, 10: 30},\n",
              " 4: {1: 4, 2: 8, 3: 12, 4: 16, 5: 20, 6: 24, 7: 28, 8: 32, 9: 36, 10: 40}}"
            ]
          },
          "metadata": {},
          "execution_count": 232
        }
      ]
    },
    {
      "cell_type": "code",
      "source": [],
      "metadata": {
        "id": "W3MM5GH_idLU"
      },
      "execution_count": null,
      "outputs": []
    }
  ]
}