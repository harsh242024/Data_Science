{
  "cells": [
    {
      "cell_type": "code",
      "execution_count": null,
      "metadata": {
        "colab": {
          "base_uri": "https://localhost:8080/"
        },
        "id": "jTWBxT33ilfT",
        "outputId": "0cacf5e7-dc17-4a45-9730-92994a06de89"
      },
      "outputs": [
        {
          "output_type": "stream",
          "name": "stdout",
          "text": [
            "hello functions\n"
          ]
        }
      ],
      "source": [
        "print('hello functions')\n",
        "#functions and methods are different"
      ]
    },
    {
      "cell_type": "markdown",
      "metadata": {
        "id": "pcyuig4rpSOl"
      },
      "source": [
        "built in and user defined"
      ]
    },
    {
      "cell_type": "code",
      "execution_count": null,
      "metadata": {
        "id": "cwEPUB86irgF"
      },
      "outputs": [],
      "source": [
        "#uses concept of abstraction\n",
        "#decomposition"
      ]
    },
    {
      "cell_type": "code",
      "execution_count": null,
      "metadata": {
        "colab": {
          "base_uri": "https://localhost:8080/"
        },
        "id": "Zvp5I0ANpdu4",
        "outputId": "26699e14-22b9-46c6-8020-3e2af5dc9161"
      },
      "outputs": [
        {
          "output_type": "execute_result",
          "data": {
            "text/plain": [
              "True"
            ]
          },
          "metadata": {},
          "execution_count": 12
        }
      ],
      "source": [
        "#components of a function\n",
        "def is_even(num): #----> function decalration\n",
        "  \"\"\"documentation string OR doc string----> this function returns if given number is even or odd\n",
        "  \"\"\"\n",
        "  x = num % 2 == 0\n",
        "  return x\n",
        "is_even(6)"
      ]
    },
    {
      "cell_type": "code",
      "execution_count": null,
      "metadata": {
        "id": "57Nx_ZB6p8QD"
      },
      "outputs": [],
      "source": [
        "def is_even(num): #----> function decalration\n",
        "  \"\"\"documentation string OR doc string----> this function returns if given number is even or odd\n",
        "  \"\"\"\n",
        "  if num % 2 == 0:\n",
        "    return 'even'\n",
        "  else:\n",
        "    return 'odd'\n"
      ]
    },
    {
      "cell_type": "code",
      "execution_count": null,
      "metadata": {
        "colab": {
          "base_uri": "https://localhost:8080/"
        },
        "id": "FhxzTbVJqwnz",
        "outputId": "6ef24f5c-bdf8-44fe-e432-3dbccc2ad2f0"
      },
      "outputs": [
        {
          "output_type": "stream",
          "name": "stdout",
          "text": [
            "odd\n",
            "even\n",
            "odd\n",
            "even\n",
            "odd\n",
            "even\n",
            "odd\n",
            "even\n",
            "odd\n",
            "even\n"
          ]
        }
      ],
      "source": [
        "#function\n",
        "#function_name(input)\n",
        "for i in range(1,11):\n",
        "  x = is_even(i)\n",
        "  print(x)"
      ]
    },
    {
      "cell_type": "markdown",
      "metadata": {
        "id": "zI785i5OrVvU"
      },
      "source": [
        "# 2 point of views"
      ]
    },
    {
      "cell_type": "code",
      "execution_count": null,
      "metadata": {
        "colab": {
          "base_uri": "https://localhost:8080/",
          "height": 263
        },
        "id": "3Aoum2LLrBET",
        "outputId": "e379251f-8732-45ef-9ed1-c1f36803b59d"
      },
      "outputs": [
        {
          "output_type": "error",
          "ename": "TypeError",
          "evalue": "not all arguments converted during string formatting",
          "traceback": [
            "\u001b[0;31m---------------------------------------------------------------------------\u001b[0m",
            "\u001b[0;31mTypeError\u001b[0m                                 Traceback (most recent call last)",
            "\u001b[0;32m<ipython-input-16-1c65eb4c2e38>\u001b[0m in \u001b[0;36m<cell line: 0>\u001b[0;34m()\u001b[0m\n\u001b[0;32m----> 1\u001b[0;31m \u001b[0mis_even\u001b[0m\u001b[0;34m(\u001b[0m\u001b[0;34m'hello'\u001b[0m\u001b[0;34m)\u001b[0m\u001b[0;34m\u001b[0m\u001b[0;34m\u001b[0m\u001b[0m\n\u001b[0m",
            "\u001b[0;32m<ipython-input-13-e7c91bd656ae>\u001b[0m in \u001b[0;36mis_even\u001b[0;34m(num)\u001b[0m\n\u001b[1;32m      2\u001b[0m   \"\"\"documentation string OR doc string----> this function returns if given number is even or odd\n\u001b[1;32m      3\u001b[0m   \"\"\"\n\u001b[0;32m----> 4\u001b[0;31m   \u001b[0;32mif\u001b[0m \u001b[0mnum\u001b[0m \u001b[0;34m%\u001b[0m \u001b[0;36m2\u001b[0m \u001b[0;34m==\u001b[0m \u001b[0;36m0\u001b[0m\u001b[0;34m:\u001b[0m\u001b[0;34m\u001b[0m\u001b[0;34m\u001b[0m\u001b[0m\n\u001b[0m\u001b[1;32m      5\u001b[0m     \u001b[0;32mreturn\u001b[0m \u001b[0;34m'even'\u001b[0m\u001b[0;34m\u001b[0m\u001b[0;34m\u001b[0m\u001b[0m\n\u001b[1;32m      6\u001b[0m   \u001b[0;32melse\u001b[0m\u001b[0;34m:\u001b[0m\u001b[0;34m\u001b[0m\u001b[0;34m\u001b[0m\u001b[0m\n",
            "\u001b[0;31mTypeError\u001b[0m: not all arguments converted during string formatting"
          ]
        }
      ],
      "source": [
        "is_even('hello')"
      ]
    },
    {
      "cell_type": "code",
      "execution_count": null,
      "metadata": {
        "id": "BAk3fz3zrc4T"
      },
      "outputs": [],
      "source": [
        "#so to avoid above case\n",
        "def is_even(num): #----> this is parameter not argument\n",
        "  \"\"\"documentation string OR doc string----> this function returns if given number is even or odd\n",
        "  \"\"\"\n",
        "  if type(num) == int:\n",
        "    if num % 2 == 0:\n",
        "      return 'even'\n",
        "    else:\n",
        "      return 'odd'\n",
        "  else:\n",
        "    print('please enter integer')"
      ]
    },
    {
      "cell_type": "code",
      "execution_count": null,
      "metadata": {
        "colab": {
          "base_uri": "https://localhost:8080/",
          "height": 35
        },
        "id": "ZIH8JzjBwqgI",
        "outputId": "2e76f065-7ff5-432b-baf8-c7df2f77317e"
      },
      "outputs": [
        {
          "output_type": "execute_result",
          "data": {
            "text/plain": [
              "\"type(object) -> the object's type\\ntype(name, bases, dict, **kwds) -> a new type\""
            ],
            "application/vnd.google.colaboratory.intrinsic+json": {
              "type": "string"
            }
          },
          "metadata": {},
          "execution_count": 18
        }
      ],
      "source": [
        "#funcionName.__doc__\n",
        "is_even.__doc__\n",
        "print.__doc__\n",
        "type.__doc__"
      ]
    },
    {
      "cell_type": "code",
      "execution_count": null,
      "metadata": {
        "colab": {
          "base_uri": "https://localhost:8080/"
        },
        "id": "PqqhbNBbr9B5",
        "outputId": "2a47e55e-4e5c-47f3-e2d4-4858ab3b3995"
      },
      "outputs": [
        {
          "output_type": "stream",
          "name": "stdout",
          "text": [
            "please enter integer\n"
          ]
        }
      ],
      "source": [
        "is_even('hello')#----> this is argument"
      ]
    },
    {
      "cell_type": "markdown",
      "metadata": {
        "id": "ZWeuyIK0sZDK"
      },
      "source": [
        "# Types of Arguments\n",
        "\n",
        "\n",
        "*   Default Arguments\n",
        "*   Positional Arguments\n",
        "*   Keyword Argument\n",
        "\n"
      ]
    },
    {
      "cell_type": "code",
      "execution_count": null,
      "metadata": {
        "id": "1c0R7_xgr_wu"
      },
      "outputs": [],
      "source": [
        "#default argument\n",
        "def power(a=1,b=1): #when values are not given\n",
        "  return a**b"
      ]
    },
    {
      "cell_type": "code",
      "execution_count": null,
      "metadata": {
        "colab": {
          "base_uri": "https://localhost:8080/"
        },
        "id": "P_LlrgZgsz8y",
        "outputId": "4c8362a1-8303-4142-b81c-bac1e6d8dfcd"
      },
      "outputs": [
        {
          "output_type": "execute_result",
          "data": {
            "text/plain": [
              "10"
            ]
          },
          "metadata": {},
          "execution_count": 21
        }
      ],
      "source": [
        "power()\n",
        "power(10)"
      ]
    },
    {
      "cell_type": "code",
      "execution_count": null,
      "metadata": {
        "colab": {
          "base_uri": "https://localhost:8080/"
        },
        "id": "MWeFMT3Is12z",
        "outputId": "be3119fa-8625-48c5-e030-a890fdeec8bf"
      },
      "outputs": [
        {
          "output_type": "execute_result",
          "data": {
            "text/plain": [
              "8"
            ]
          },
          "metadata": {},
          "execution_count": 22
        }
      ],
      "source": [
        "#Positional argument. ------> jis order mai argument bhej rhe ussi order mai jaate hai\n",
        "power(2,3)"
      ]
    },
    {
      "cell_type": "code",
      "execution_count": null,
      "metadata": {
        "colab": {
          "base_uri": "https://localhost:8080/"
        },
        "id": "kwVI-D6ItfDl",
        "outputId": "a1a804dc-180b-47da-cdc9-d2bfca981b44"
      },
      "outputs": [
        {
          "output_type": "execute_result",
          "data": {
            "text/plain": [
              "8"
            ]
          },
          "metadata": {},
          "execution_count": 23
        }
      ],
      "source": [
        "#keyword argument     -----> valued more in python than positional argument\n",
        "power(b=3,a=2)"
      ]
    },
    {
      "cell_type": "markdown",
      "metadata": {
        "id": "9SoQDHuruZdU"
      },
      "source": [
        "# *args and **kwargs\n",
        "*args and **kwargs are special Python keywords that are used to pass the varible length of arguments to a function\n"
      ]
    },
    {
      "cell_type": "code",
      "execution_count": null,
      "metadata": {
        "id": "oTOnsenEt1Yb"
      },
      "outputs": [],
      "source": [
        "# *args\n",
        "# allows us to pass a variable number of non-keyword arguments to a function\n",
        "\n",
        "def multiply(*args):  #ye internally ek tuple bna leta hai\n",
        "  product = 1\n",
        "  for i in args:\n",
        "    product = product * i\n",
        "  print(args)     # args ki jgh kuch bhi likho vo sb kaam krenge\n",
        "  return product\n"
      ]
    },
    {
      "cell_type": "code",
      "execution_count": null,
      "metadata": {
        "colab": {
          "base_uri": "https://localhost:8080/"
        },
        "id": "IZeGUCZ1v4l2",
        "outputId": "26b1b42b-c6bb-470e-b148-0f57cc0ceea6"
      },
      "outputs": [
        {
          "output_type": "stream",
          "name": "stdout",
          "text": [
            "(1, 2, 3, 4, 5, 6, 7, 8, 9, 10, 11, 12)\n"
          ]
        },
        {
          "output_type": "execute_result",
          "data": {
            "text/plain": [
              "479001600"
            ]
          },
          "metadata": {},
          "execution_count": 25
        }
      ],
      "source": [
        "multiply(1,2,3,4,5,6,7,8,9,10,11,12)"
      ]
    },
    {
      "cell_type": "code",
      "execution_count": null,
      "metadata": {
        "id": "492Gp99zvGh0"
      },
      "outputs": [],
      "source": [
        "# **kwargs\n",
        "# **kwargs allows us to pass any number of keyword arguments\n",
        "# keyword arguments mean that they contain a key-value pair , like a python dictionary"
      ]
    },
    {
      "cell_type": "code",
      "execution_count": null,
      "metadata": {
        "id": "KVzXc_XhvW8c"
      },
      "outputs": [],
      "source": [
        "def display(**kwargs):\n",
        "  for (key,value) in kwargs.items():\n",
        "    print(key,'-->',value)"
      ]
    },
    {
      "cell_type": "code",
      "execution_count": null,
      "metadata": {
        "colab": {
          "base_uri": "https://localhost:8080/"
        },
        "id": "tYF7MQLmw3Kz",
        "outputId": "8198367c-2b02-45c8-e726-d2377c39c70e"
      },
      "outputs": [
        {
          "output_type": "stream",
          "name": "stdout",
          "text": [
            "india --> delhi\n",
            "srilanka --> colombo\n",
            "nepal --> kathmandu\n",
            "australia --> canberra\n"
          ]
        }
      ],
      "source": [
        "display(india='delhi',srilanka='colombo',nepal='kathmandu',australia='canberra')"
      ]
    },
    {
      "cell_type": "markdown",
      "metadata": {
        "id": "PzY9NP7Kxpwq"
      },
      "source": [
        "# points to remember while using * args and **kwargs\n",
        "\n",
        "\n",
        "*   order of the argument matter ( normal -> *args -> **kwargs)\n",
        "*   The words \"args\" and \"kwargs\" are only a conversation , we can use any name of our choice\n",
        "\n"
      ]
    },
    {
      "cell_type": "markdown",
      "metadata": {
        "id": "BI3n-UnhyZVK"
      },
      "source": [
        "# How Functions are executed in memory"
      ]
    },
    {
      "cell_type": "code",
      "execution_count": null,
      "metadata": {
        "id": "mrxzi2pdw8wC"
      },
      "outputs": [],
      "source": [
        "# fuction ka life span bs tb tk rheta hai jb tk usse call kiya gya hai, uske variable and all bhi tbtk exist krte hai"
      ]
    },
    {
      "cell_type": "markdown",
      "metadata": {
        "id": "9Q06Yak8zV09"
      },
      "source": [
        "without return statement"
      ]
    },
    {
      "cell_type": "code",
      "execution_count": null,
      "metadata": {
        "id": "6i55vHbEzLPB"
      },
      "outputs": [],
      "source": [
        "def is_even(num):\n",
        "  if num % 2 == 0:\n",
        "    print('even')\n",
        "  else:\n",
        "    print('odd')  # if return is not there in function then it will return \"none\""
      ]
    },
    {
      "cell_type": "code",
      "execution_count": null,
      "metadata": {
        "colab": {
          "base_uri": "https://localhost:8080/"
        },
        "id": "gNyBobcyzkzO",
        "outputId": "a0a58663-e14b-4882-f5dc-81d13d07f88c"
      },
      "outputs": [
        {
          "output_type": "stream",
          "name": "stdout",
          "text": [
            "even\n"
          ]
        }
      ],
      "source": [
        "is_even(8)    #default value of return is none"
      ]
    },
    {
      "cell_type": "code",
      "execution_count": null,
      "metadata": {
        "colab": {
          "base_uri": "https://localhost:8080/"
        },
        "id": "ruDF-bDtzmvL",
        "outputId": "7acd94d1-2852-4c0a-f415-1b8913555d9a"
      },
      "outputs": [
        {
          "output_type": "stream",
          "name": "stdout",
          "text": [
            "None\n"
          ]
        }
      ],
      "source": [
        "l = [1,2,3,4,5]\n",
        "print(l.append(6))  #It will print None because the append() method doesn't return anything. It simply adds 6 to the end of the list. ******"
      ]
    },
    {
      "cell_type": "markdown",
      "metadata": {
        "id": "vWdXZwgC0r9n"
      },
      "source": [
        "# Variable Scope\n",
        "impppp concept"
      ]
    },
    {
      "cell_type": "code",
      "execution_count": null,
      "metadata": {
        "colab": {
          "base_uri": "https://localhost:8080/"
        },
        "id": "-SGPWC-b0P7Q",
        "outputId": "16f1e252-69b7-411e-f1ed-987b7710702e"
      },
      "outputs": [
        {
          "output_type": "stream",
          "name": "stdout",
          "text": [
            "5\n",
            "6\n",
            "5\n"
          ]
        }
      ],
      "source": [
        "def g(y):\n",
        "  print(x)\n",
        "  print(x+1)\n",
        "x=5\n",
        "g(x)\n",
        "print(x)\n",
        "# all variable that comes under scope of main program are global variable\n",
        "# all variables that comes under scope of function are local variable\n",
        "#local ko global use nhi kr skta\n",
        "#global ko local use kr skta hai"
      ]
    },
    {
      "cell_type": "code",
      "execution_count": null,
      "metadata": {
        "colab": {
          "base_uri": "https://localhost:8080/"
        },
        "id": "JQWSdXw90-tj",
        "outputId": "65cdff5c-24f2-4b7d-ef1e-4671843328ae"
      },
      "outputs": [
        {
          "output_type": "stream",
          "name": "stdout",
          "text": [
            "5\n",
            "2\n",
            "5\n"
          ]
        }
      ],
      "source": [
        "def f(y):\n",
        "  x = 1      #global and local variable ka name same ho skta hai no issues\n",
        "  x += 1\n",
        "  print(x)\n",
        "x = 5\n",
        "print(x)\n",
        "f(x)\n",
        "print(x)"
      ]
    },
    {
      "cell_type": "code",
      "execution_count": null,
      "metadata": {
        "colab": {
          "base_uri": "https://localhost:8080/",
          "height": 332
        },
        "id": "gfqy7Asj24aB",
        "outputId": "c414b328-41d2-4d95-edd7-686dda264e38"
      },
      "outputs": [
        {
          "output_type": "error",
          "ename": "UnboundLocalError",
          "evalue": "cannot access local variable 'x' where it is not associated with a value",
          "traceback": [
            "\u001b[0;31m---------------------------------------------------------------------------\u001b[0m",
            "\u001b[0;31mUnboundLocalError\u001b[0m                         Traceback (most recent call last)",
            "\u001b[0;32m<ipython-input-35-0560d241b0a9>\u001b[0m in \u001b[0;36m<cell line: 0>\u001b[0;34m()\u001b[0m\n\u001b[1;32m      2\u001b[0m   \u001b[0mx\u001b[0m \u001b[0;34m+=\u001b[0m \u001b[0;36m1\u001b[0m    \u001b[0;31m#function ke andar variable nhi hai to vo global waale ko use kr skta hai but usse change nhi kr skta\u001b[0m\u001b[0;34m\u001b[0m\u001b[0;34m\u001b[0m\u001b[0m\n\u001b[1;32m      3\u001b[0m \u001b[0mx\u001b[0m\u001b[0;34m=\u001b[0m\u001b[0;36m5\u001b[0m\u001b[0;34m\u001b[0m\u001b[0;34m\u001b[0m\u001b[0m\n\u001b[0;32m----> 4\u001b[0;31m \u001b[0mh\u001b[0m\u001b[0;34m(\u001b[0m\u001b[0mx\u001b[0m\u001b[0;34m)\u001b[0m\u001b[0;34m\u001b[0m\u001b[0;34m\u001b[0m\u001b[0m\n\u001b[0m\u001b[1;32m      5\u001b[0m \u001b[0mprint\u001b[0m\u001b[0;34m(\u001b[0m\u001b[0mx\u001b[0m\u001b[0;34m)\u001b[0m\u001b[0;34m\u001b[0m\u001b[0;34m\u001b[0m\u001b[0m\n\u001b[1;32m      6\u001b[0m \u001b[0;34m\u001b[0m\u001b[0m\n",
            "\u001b[0;32m<ipython-input-35-0560d241b0a9>\u001b[0m in \u001b[0;36mh\u001b[0;34m(y)\u001b[0m\n\u001b[1;32m      1\u001b[0m \u001b[0;32mdef\u001b[0m \u001b[0mh\u001b[0m\u001b[0;34m(\u001b[0m\u001b[0my\u001b[0m\u001b[0;34m)\u001b[0m\u001b[0;34m:\u001b[0m\u001b[0;34m\u001b[0m\u001b[0;34m\u001b[0m\u001b[0m\n\u001b[0;32m----> 2\u001b[0;31m   \u001b[0mx\u001b[0m \u001b[0;34m+=\u001b[0m \u001b[0;36m1\u001b[0m    \u001b[0;31m#function ke andar variable nhi hai to vo global waale ko use kr skta hai but usse change nhi kr skta\u001b[0m\u001b[0;34m\u001b[0m\u001b[0;34m\u001b[0m\u001b[0m\n\u001b[0m\u001b[1;32m      3\u001b[0m \u001b[0mx\u001b[0m\u001b[0;34m=\u001b[0m\u001b[0;36m5\u001b[0m\u001b[0;34m\u001b[0m\u001b[0;34m\u001b[0m\u001b[0m\n\u001b[1;32m      4\u001b[0m \u001b[0mh\u001b[0m\u001b[0;34m(\u001b[0m\u001b[0mx\u001b[0m\u001b[0;34m)\u001b[0m\u001b[0;34m\u001b[0m\u001b[0;34m\u001b[0m\u001b[0m\n\u001b[1;32m      5\u001b[0m \u001b[0mprint\u001b[0m\u001b[0;34m(\u001b[0m\u001b[0mx\u001b[0m\u001b[0;34m)\u001b[0m\u001b[0;34m\u001b[0m\u001b[0;34m\u001b[0m\u001b[0m\n",
            "\u001b[0;31mUnboundLocalError\u001b[0m: cannot access local variable 'x' where it is not associated with a value"
          ]
        }
      ],
      "source": [
        "def h(y):\n",
        "  x += 1    #function ke andar variable nhi hai to vo global waale ko use kr skta hai but usse change nhi kr skta\n",
        "x=5\n",
        "h(x)\n",
        "print(x)\n",
        "\n",
        "\n",
        "\n",
        "\n",
        "\n"
      ]
    },
    {
      "cell_type": "code",
      "execution_count": null,
      "metadata": {
        "colab": {
          "base_uri": "https://localhost:8080/"
        },
        "id": "6De1m58n4IRP",
        "outputId": "81d6e203-70ae-47d2-c5c9-3615e071e18b"
      },
      "outputs": [
        {
          "output_type": "stream",
          "name": "stdout",
          "text": [
            "6\n"
          ]
        }
      ],
      "source": [
        "def h(y):\n",
        "  global x\n",
        "  x += 1    #can change here\n",
        "x=5\n",
        "h(x)\n",
        "print(x)"
      ]
    },
    {
      "cell_type": "code",
      "execution_count": null,
      "metadata": {
        "colab": {
          "base_uri": "https://localhost:8080/"
        },
        "id": "PvWs6Ipv2QmC",
        "outputId": "f6a54299-6930-4e70-afeb-b0b1434477dc"
      },
      "outputs": [
        {
          "output_type": "stream",
          "name": "stdout",
          "text": [
            "in f(x): x =  4\n",
            "in main program scope: z =  4\n",
            "in main program scope: x =  3\n"
          ]
        }
      ],
      "source": [
        "def f(x):\n",
        "  x = x + 1\n",
        "  print('in f(x): x = ', x)\n",
        "  return x\n",
        "x = 3\n",
        "z = f(x)\n",
        "print('in main program scope: z = ', z)\n",
        "print('in main program scope: x = ', x)"
      ]
    },
    {
      "cell_type": "markdown",
      "metadata": {
        "id": "9GlAMeLe6IzD"
      },
      "source": [
        "# Nested Functions"
      ]
    },
    {
      "cell_type": "code",
      "execution_count": null,
      "metadata": {
        "id": "DT5l-NXm223e"
      },
      "outputs": [],
      "source": [
        "def f():\n",
        "  def g():\n",
        "    print('inside function g')\n",
        "  g()       # function ko skip krega se socho\n",
        "  print('inside function f')"
      ]
    },
    {
      "cell_type": "code",
      "execution_count": null,
      "metadata": {
        "colab": {
          "base_uri": "https://localhost:8080/"
        },
        "id": "8_5HzpxN6biS",
        "outputId": "d26be3f4-8dab-4a29-d80f-de0e7dd7e0fb"
      },
      "outputs": [
        {
          "output_type": "stream",
          "name": "stdout",
          "text": [
            "inside function g\n",
            "inside function f\n"
          ]
        }
      ],
      "source": [
        "f()"
      ]
    },
    {
      "cell_type": "code",
      "execution_count": null,
      "metadata": {
        "colab": {
          "base_uri": "https://localhost:8080/",
          "height": 141
        },
        "id": "MoP0kclY6lAZ",
        "outputId": "8eee4971-3821-4625-d28c-198a0b4a8752"
      },
      "outputs": [
        {
          "output_type": "error",
          "ename": "TypeError",
          "evalue": "g() missing 1 required positional argument: 'y'",
          "traceback": [
            "\u001b[0;31m---------------------------------------------------------------------------\u001b[0m",
            "\u001b[0;31mTypeError\u001b[0m                                 Traceback (most recent call last)",
            "\u001b[0;32m<ipython-input-40-bed0eef5fab6>\u001b[0m in \u001b[0;36m<cell line: 0>\u001b[0;34m()\u001b[0m\n\u001b[0;32m----> 1\u001b[0;31m \u001b[0mg\u001b[0m\u001b[0;34m(\u001b[0m\u001b[0;34m)\u001b[0m   \u001b[0;31m# nested function main program se hidden hota hai\u001b[0m\u001b[0;34m\u001b[0m\u001b[0;34m\u001b[0m\u001b[0m\n\u001b[0m",
            "\u001b[0;31mTypeError\u001b[0m: g() missing 1 required positional argument: 'y'"
          ]
        }
      ],
      "source": [
        "g()   # nested function main program se hidden hota hai"
      ]
    },
    {
      "cell_type": "code",
      "execution_count": null,
      "metadata": {
        "id": "9WB_7mGM6t7R"
      },
      "outputs": [],
      "source": [
        "#tell how many no. of statements will be printed\n",
        "def f():\n",
        "  def g():\n",
        "    print('inside function g')\n",
        "    f()\n",
        "  g()       # function ko skip krega se socho\n",
        "  print('inside function f')"
      ]
    },
    {
      "cell_type": "code",
      "execution_count": null,
      "metadata": {
        "id": "fAW13Pxa8OYL"
      },
      "outputs": [],
      "source": [
        "# f()   ------> will print infinite loop"
      ]
    },
    {
      "cell_type": "code",
      "execution_count": null,
      "metadata": {
        "colab": {
          "base_uri": "https://localhost:8080/"
        },
        "id": "_eNue7Au8XTd",
        "outputId": "bb191ef8-4466-48c5-98a4-ee86555eedd9"
      },
      "outputs": [
        {
          "output_type": "stream",
          "name": "stdout",
          "text": [
            "hi\n"
          ]
        }
      ],
      "source": [
        "print('hi')"
      ]
    },
    {
      "cell_type": "code",
      "execution_count": null,
      "metadata": {
        "colab": {
          "base_uri": "https://localhost:8080/",
          "height": 106
        },
        "id": "SO0f3UTG9SCu",
        "outputId": "82274479-72d6-4600-bb41-e67caa525378"
      },
      "outputs": [
        {
          "output_type": "error",
          "ename": "SyntaxError",
          "evalue": "invalid syntax. Perhaps you forgot a comma? (<ipython-input-44-b689246075ac>, line 12)",
          "traceback": [
            "\u001b[0;36m  File \u001b[0;32m\"<ipython-input-44-b689246075ac>\"\u001b[0;36m, line \u001b[0;32m12\u001b[0m\n\u001b[0;31m    print(\"in main program scope \" z)\u001b[0m\n\u001b[0m          ^\u001b[0m\n\u001b[0;31mSyntaxError\u001b[0m\u001b[0;31m:\u001b[0m invalid syntax. Perhaps you forgot a comma?\n"
          ]
        }
      ],
      "source": [
        "def g(x):\n",
        "  def h(x):\n",
        "    x = x+1\n",
        "    print(\"in h(x): x =\",x)\n",
        "  x = x + 1\n",
        "  print(\"in g(x): x =\",x)\n",
        "  h(x)\n",
        "  return x\n",
        "x = 3\n",
        "z = g(x)\n",
        "print(\"in main program scope: x =\",x)\n",
        "print(\"in main program scope \" z)\n",
        "\n",
        "#4\n",
        "#5\n",
        "#3\n",
        "\n",
        "\n",
        "\n",
        "\n",
        "\n",
        "\n",
        "\n",
        "\n",
        "\n"
      ]
    },
    {
      "cell_type": "code",
      "execution_count": null,
      "metadata": {
        "id": "j4a_Lr0v9fTw"
      },
      "outputs": [],
      "source": [
        "#pass by reference hota hai in python"
      ]
    },
    {
      "cell_type": "markdown",
      "source": [
        "# Functions are 1st class citizens"
      ],
      "metadata": {
        "id": "gt97eFwhAQxM"
      }
    },
    {
      "cell_type": "code",
      "source": [
        "print('1st class means functions act like datatypes')"
      ],
      "metadata": {
        "id": "nVaT_UlL_kCi",
        "colab": {
          "base_uri": "https://localhost:8080/"
        },
        "outputId": "e4e2108c-08a7-4f9a-a4b5-672c25595d2b"
      },
      "execution_count": null,
      "outputs": [
        {
          "output_type": "stream",
          "name": "stdout",
          "text": [
            "1st class means functions act like datatypes\n"
          ]
        }
      ]
    },
    {
      "cell_type": "code",
      "source": [
        "#type and id\n",
        "def square(num):\n",
        "  return num**2\n",
        "\n",
        "type(square)\n",
        "id(square)    #function in python is a datatype"
      ],
      "metadata": {
        "id": "3pLWqdQzAYm6",
        "colab": {
          "base_uri": "https://localhost:8080/"
        },
        "outputId": "b6cb9816-5f33-4cb9-ae23-dfb8ec676925"
      },
      "execution_count": null,
      "outputs": [
        {
          "output_type": "execute_result",
          "data": {
            "text/plain": [
              "139842879668064"
            ]
          },
          "metadata": {},
          "execution_count": 47
        }
      ]
    },
    {
      "cell_type": "code",
      "source": [
        "#reassign\n",
        "x=square\n",
        "id(x)\n",
        "x(3)    #name of function is changed"
      ],
      "metadata": {
        "id": "w-Wn8TvCAp0j",
        "colab": {
          "base_uri": "https://localhost:8080/"
        },
        "outputId": "fb99ddc5-e628-4b01-c38c-63c8f9f5c4f3"
      },
      "execution_count": null,
      "outputs": [
        {
          "output_type": "execute_result",
          "data": {
            "text/plain": [
              "9"
            ]
          },
          "metadata": {},
          "execution_count": 48
        }
      ]
    },
    {
      "cell_type": "code",
      "source": [
        "#deleting a function\n",
        "# del square    -----> will delete the function"
      ],
      "metadata": {
        "id": "EZWoT5Z1BDo_"
      },
      "execution_count": null,
      "outputs": []
    },
    {
      "cell_type": "code",
      "source": [
        "#storing\n",
        "l = [1,2,3,4,square]\n",
        "l[-1](3)"
      ],
      "metadata": {
        "colab": {
          "base_uri": "https://localhost:8080/"
        },
        "id": "rzRMxAzuBS6C",
        "outputId": "a3960ee7-846b-494b-b0d1-28b2e70ea6d4"
      },
      "execution_count": null,
      "outputs": [
        {
          "output_type": "execute_result",
          "data": {
            "text/plain": [
              "9"
            ]
          },
          "metadata": {},
          "execution_count": 50
        }
      ]
    },
    {
      "cell_type": "code",
      "source": [
        "s={square}\n",
        "s   #therefore function is immutable"
      ],
      "metadata": {
        "colab": {
          "base_uri": "https://localhost:8080/"
        },
        "id": "R4FB1deLBoXZ",
        "outputId": "e5a023ef-02b1-4cbb-a1d9-27a5910f5337"
      },
      "execution_count": null,
      "outputs": [
        {
          "output_type": "execute_result",
          "data": {
            "text/plain": [
              "{<function __main__.square(num)>}"
            ]
          },
          "metadata": {},
          "execution_count": 51
        }
      ]
    },
    {
      "cell_type": "code",
      "source": [
        "#returning a function\n",
        "def f():\n",
        "  def x(a,b):\n",
        "    return a+b        # firseeeeee samjhoooooooooooo\n",
        "  return x\n",
        "val = f()(3,4)\n",
        "print(val)"
      ],
      "metadata": {
        "colab": {
          "base_uri": "https://localhost:8080/"
        },
        "id": "5UdDAhECBh4P",
        "outputId": "93a8ef87-490f-4a9f-e804-9b7d2122115d"
      },
      "execution_count": null,
      "outputs": [
        {
          "output_type": "stream",
          "name": "stdout",
          "text": [
            "7\n"
          ]
        }
      ]
    },
    {
      "cell_type": "code",
      "source": [
        "# function as argument"
      ],
      "metadata": {
        "id": "ZW4Rp_W_Bz_H"
      },
      "execution_count": null,
      "outputs": []
    },
    {
      "cell_type": "code",
      "source": [
        "def func_a():\n",
        "  print('inside func_a')\n",
        "def func_c(z):\n",
        "  print('inside func_c')\n",
        "  return z()\n",
        "print(func_c(func_a))"
      ],
      "metadata": {
        "colab": {
          "base_uri": "https://localhost:8080/"
        },
        "id": "jcGQnA87CUWn",
        "outputId": "8f44103f-0ed0-4f0f-e001-67f88c0f2b4e"
      },
      "execution_count": null,
      "outputs": [
        {
          "output_type": "stream",
          "name": "stdout",
          "text": [
            "inside func_c\n",
            "inside func_a\n",
            "None\n"
          ]
        }
      ]
    },
    {
      "cell_type": "markdown",
      "source": [
        "# Benifits of using a Function\n",
        "\n",
        "\n",
        "---\n",
        "\n",
        "*   code modularity\n",
        "*   code readibility\n",
        "*   code reusability\n",
        "\n"
      ],
      "metadata": {
        "id": "uYqGha-mEE93"
      }
    },
    {
      "cell_type": "markdown",
      "source": [
        "# Lambda Function\n",
        "A lambda function is a small anonymous function\n",
        "\n",
        "---\n",
        "A lambda function can take any number of arguments , but can only have one expression\n"
      ],
      "metadata": {
        "id": "gnvyWJRVEVGS"
      }
    },
    {
      "cell_type": "code",
      "source": [
        "# lambda a,b : a+b"
      ],
      "metadata": {
        "id": "5QkyKrxID5UE"
      },
      "execution_count": null,
      "outputs": []
    },
    {
      "cell_type": "code",
      "source": [
        "# x --> x**2\n",
        "lambda x : x**2"
      ],
      "metadata": {
        "colab": {
          "base_uri": "https://localhost:8080/"
        },
        "id": "bwPqInaUEs3D",
        "outputId": "74957c4c-815c-4c65-a44a-4b2c93f43aaf"
      },
      "execution_count": null,
      "outputs": [
        {
          "output_type": "execute_result",
          "data": {
            "text/plain": [
              "<function __main__.<lambda>(x)>"
            ]
          },
          "metadata": {},
          "execution_count": 57
        }
      ]
    },
    {
      "cell_type": "code",
      "source": [
        "#lambda ko use krne ke liye variable mai store krna pdta hai\n",
        "f = lambda x : x**2\n",
        "f(2)"
      ],
      "metadata": {
        "colab": {
          "base_uri": "https://localhost:8080/"
        },
        "id": "dnZtXLs5E54o",
        "outputId": "c35323fb-d3c4-427d-e0a3-891627866a05"
      },
      "execution_count": null,
      "outputs": [
        {
          "output_type": "execute_result",
          "data": {
            "text/plain": [
              "4"
            ]
          },
          "metadata": {},
          "execution_count": 59
        }
      ]
    },
    {
      "cell_type": "code",
      "source": [
        "# sum\n",
        "a = lambda x,y : x+y\n",
        "a(2,3)"
      ],
      "metadata": {
        "colab": {
          "base_uri": "https://localhost:8080/"
        },
        "id": "iowcEtY0FCa3",
        "outputId": "8a817108-aa1b-4a8e-f653-ca75cfd9a640"
      },
      "execution_count": null,
      "outputs": [
        {
          "output_type": "execute_result",
          "data": {
            "text/plain": [
              "5"
            ]
          },
          "metadata": {},
          "execution_count": 60
        }
      ]
    },
    {
      "cell_type": "code",
      "source": [
        "# there is no function of lambda\n",
        "# return of function is lambda only\n",
        "# lambda is written in 1 line\n",
        "# no reusable"
      ],
      "metadata": {
        "id": "nEUjZ2MoFKr-"
      },
      "execution_count": null,
      "outputs": []
    },
    {
      "cell_type": "code",
      "source": [
        "# use of lambda function  ------> they are used with higher order functions\n",
        "\n",
        "\n",
        "\n",
        "# check if a string has 'a'\n",
        "a = lambda s : 'a' in s\n",
        "a('hello')"
      ],
      "metadata": {
        "colab": {
          "base_uri": "https://localhost:8080/"
        },
        "id": "kEbfnkOXFbZp",
        "outputId": "06f8490f-337d-48e4-fb85-de4b7e98ce4e"
      },
      "execution_count": null,
      "outputs": [
        {
          "output_type": "execute_result",
          "data": {
            "text/plain": [
              "False"
            ]
          },
          "metadata": {},
          "execution_count": 62
        }
      ]
    },
    {
      "cell_type": "code",
      "source": [
        "# odd even\n",
        "g = lambda x : 'even' if x%2==0 else 'odd'\n",
        "g(3)"
      ],
      "metadata": {
        "colab": {
          "base_uri": "https://localhost:8080/",
          "height": 35
        },
        "id": "Z9MK7g4HFwrs",
        "outputId": "e7075f2c-8436-4a1e-eacd-a3ab9883d1ae"
      },
      "execution_count": null,
      "outputs": [
        {
          "output_type": "execute_result",
          "data": {
            "text/plain": [
              "'odd'"
            ],
            "application/vnd.google.colaboratory.intrinsic+json": {
              "type": "string"
            }
          },
          "metadata": {},
          "execution_count": 63
        }
      ]
    },
    {
      "cell_type": "markdown",
      "source": [
        "# Higher Order Functions"
      ],
      "metadata": {
        "id": "Qa10-VNwGL4v"
      }
    },
    {
      "cell_type": "code",
      "source": [
        "# aisa function jo dusre function ko return kre YAAAAA FIRRRRR aisa function jo input mai dusra function receive kre"
      ],
      "metadata": {
        "id": "pb21qvSTGKmv"
      },
      "execution_count": null,
      "outputs": []
    },
    {
      "cell_type": "code",
      "source": [
        "#eg.\n",
        "def square(x):        #---------> firse dekhoooooooo\n",
        "  return x**2\n",
        "def transform(f,L): #HOF\n",
        "  output = []\n",
        "  for i in L:\n",
        "    output.append(f(i))\n",
        "  print(output)\n",
        "L = [1,2,3,4,5]\n",
        "transform(square,L)\n",
        "\n",
        "# complete the code"
      ],
      "metadata": {
        "colab": {
          "base_uri": "https://localhost:8080/"
        },
        "id": "1bHTaryRGnKr",
        "outputId": "159ea659-fe13-4297-c8bc-44cba14e8432"
      },
      "execution_count": null,
      "outputs": [
        {
          "output_type": "stream",
          "name": "stdout",
          "text": [
            "[1, 4, 9, 16, 25]\n"
          ]
        }
      ]
    },
    {
      "cell_type": "code",
      "source": [],
      "metadata": {
        "id": "3tkiT_YXHCph"
      },
      "execution_count": null,
      "outputs": []
    }
  ],
  "metadata": {
    "colab": {
      "provenance": []
    },
    "kernelspec": {
      "display_name": "Python 3",
      "name": "python3"
    },
    "language_info": {
      "name": "python"
    }
  },
  "nbformat": 4,
  "nbformat_minor": 0
}