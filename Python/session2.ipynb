{
  "nbformat": 4,
  "nbformat_minor": 0,
  "metadata": {
    "colab": {
      "provenance": []
    },
    "kernelspec": {
      "name": "python3",
      "display_name": "Python 3"
    },
    "language_info": {
      "name": "python"
    }
  },
  "cells": [
    {
      "cell_type": "code",
      "execution_count": null,
      "metadata": {
        "colab": {
          "base_uri": "https://localhost:8080/"
        },
        "id": "MjtbO3au-ssj",
        "outputId": "b09e5891-37e9-4d2f-ca02-5c38cb0ec018"
      },
      "outputs": [
        {
          "output_type": "stream",
          "name": "stdout",
          "text": [
            "hello\n"
          ]
        }
      ],
      "source": [
        "print('hello')"
      ]
    },
    {
      "cell_type": "code",
      "source": [
        "#Arithematic operators\n",
        "print(5 + 6)\n",
        "print(5*5)#addition\n",
        "print(5-6)#subtraction\n",
        "print(5/2)#normal div\n",
        "print(5//2)#integer div\n",
        "print(5%2)#remainder\n",
        "print(5**2)#power"
      ],
      "metadata": {
        "colab": {
          "base_uri": "https://localhost:8080/"
        },
        "id": "H2lqS65z-1Vb",
        "outputId": "a1d41296-ef91-4f64-eb54-63e92f32dbae"
      },
      "execution_count": null,
      "outputs": [
        {
          "output_type": "stream",
          "name": "stdout",
          "text": [
            "11\n",
            "25\n",
            "-1\n",
            "2.5\n",
            "2\n",
            "1\n",
            "25\n"
          ]
        }
      ]
    },
    {
      "cell_type": "code",
      "source": [
        "#relational operator\n",
        "print(4>5)\n",
        "print(4<5)\n",
        "print(4>=4)\n",
        "print(4<=4)\n",
        "print(4==4)\n",
        "print(4!=4)\n"
      ],
      "metadata": {
        "colab": {
          "base_uri": "https://localhost:8080/"
        },
        "id": "90XSKFXgJkcL",
        "outputId": "4db07951-a9ff-4034-c92c-30a0a4bcba5e"
      },
      "execution_count": null,
      "outputs": [
        {
          "output_type": "stream",
          "name": "stdout",
          "text": [
            "False\n",
            "True\n",
            "True\n",
            "True\n",
            "True\n",
            "False\n"
          ]
        }
      ]
    },
    {
      "cell_type": "code",
      "source": [
        "#logical operator\n",
        "print(1 and 0)\n",
        "print(1 or 0)\n",
        "print(not 1)"
      ],
      "metadata": {
        "colab": {
          "base_uri": "https://localhost:8080/"
        },
        "id": "p22vLdYnJ0vK",
        "outputId": "d23ec3d0-c3ff-4675-ffc0-b19154e68a71"
      },
      "execution_count": null,
      "outputs": [
        {
          "output_type": "stream",
          "name": "stdout",
          "text": [
            "0\n",
            "1\n",
            "False\n"
          ]
        }
      ]
    },
    {
      "cell_type": "code",
      "source": [
        "#bitwise operator\n",
        "print(2 & 3)#bitwise and\n",
        "print(2 | 3)#bitwise or\n",
        "print(2 ^ 3)#bitwise xor\n",
        "print(~3)#bitwise not\n",
        "print(4 >> 2)#bitwise right shift\n",
        "print(5 << 2)#bitwise left shift"
      ],
      "metadata": {
        "colab": {
          "base_uri": "https://localhost:8080/"
        },
        "id": "Cg_v1iigJ8jm",
        "outputId": "7c4aee14-01bd-41b4-d021-fa39219a2f4d"
      },
      "execution_count": null,
      "outputs": [
        {
          "output_type": "stream",
          "name": "stdout",
          "text": [
            "2\n",
            "3\n"
          ]
        }
      ]
    },
    {
      "cell_type": "code",
      "source": [
        "#assignment operator\n",
        "a = 2\n",
        "a += 2 # a = a + 2\n",
        "print(a)\n",
        "\n",
        "\n",
        "# a++ and ++a not allowed"
      ],
      "metadata": {
        "colab": {
          "base_uri": "https://localhost:8080/"
        },
        "id": "fP2EZQvDKELP",
        "outputId": "a9947b09-7e22-4d46-ba24-69ffe08c82e2"
      },
      "execution_count": null,
      "outputs": [
        {
          "output_type": "stream",
          "name": "stdout",
          "text": [
            "4\n"
          ]
        }
      ]
    },
    {
      "cell_type": "code",
      "source": [
        "#membership operator\n",
        "print('D' not in 'Delhi')\n",
        "print(1 in [2,3,4,5,6])"
      ],
      "metadata": {
        "colab": {
          "base_uri": "https://localhost:8080/"
        },
        "id": "KcfzTzAYKrIE",
        "outputId": "94de1010-bd50-4d44-d667-3e6aedbeac4e"
      },
      "execution_count": null,
      "outputs": [
        {
          "output_type": "stream",
          "name": "stdout",
          "text": [
            "False\n",
            "False\n"
          ]
        }
      ]
    },
    {
      "cell_type": "code",
      "source": [
        "#program - find the sum of a 3 digit number entered by the user\n",
        "number = int(input('Enter a 3 digit number : '))\n",
        "a = number % 10 # 345 % 10\n",
        "number //= 10\n",
        "b = number % 10 # 34 % 10\n",
        "number //= 10\n",
        "c = number % 10 #3%10\n",
        "print(a+b+c)"
      ],
      "metadata": {
        "colab": {
          "base_uri": "https://localhost:8080/"
        },
        "id": "LId79_A4K6DS",
        "outputId": "3f5b3d6f-425e-4d27-c377-8d870ce52f37"
      },
      "execution_count": null,
      "outputs": [
        {
          "output_type": "stream",
          "name": "stdout",
          "text": [
            "Enter a 3 digit number : 738\n",
            "18\n"
          ]
        }
      ]
    },
    {
      "cell_type": "code",
      "source": [
        "#if-else examples\n",
        "#login program and introduction\n",
        "email = input('Enter email : ')\n",
        "password = input('Enter password : ')\n",
        "if email == 'harsh.gmail.com' and password == '12345':\n",
        "  print('welcome to the page')              #indentation is must\n",
        "elif email == 'harsh.gmail.com' and password != '12345':\n",
        "  print('incorrect password')\n",
        "elif email != 'harsh.gmail.com' and password == '12345':\n",
        "  print('incorrect email')\n",
        "else :\n",
        "  print('incorrect credentials')"
      ],
      "metadata": {
        "colab": {
          "base_uri": "https://localhost:8080/"
        },
        "id": "eZuDl1fbN36a",
        "outputId": "be7b5226-a57e-4f98-e01a-d3a5222d5a4d"
      },
      "execution_count": null,
      "outputs": [
        {
          "output_type": "stream",
          "name": "stdout",
          "text": [
            "Enter email : harsh.gmail.com\n",
            "Enter password : 123\n",
            "incorrect password\n"
          ]
        }
      ]
    },
    {
      "cell_type": "code",
      "source": [
        "# 1. Find the min of 3 numbers\n",
        "a = int(input('Enter first number : '))\n",
        "b = int(input('Enter second number : '))\n",
        "c = int(input('Enter third number : '))\n",
        "if (a < b) and (a < c):\n",
        "  print('a is the minimum')\n",
        "elif (b < a) and (b < c):\n",
        "  print('b is the minimum')\n",
        "else:\n",
        "  print('c is the minimum')"
      ],
      "metadata": {
        "colab": {
          "base_uri": "https://localhost:8080/"
        },
        "id": "Y22AF2NYLspM",
        "outputId": "72501bb1-a332-4cc7-f97c-eeeb491e86b7"
      },
      "execution_count": null,
      "outputs": [
        {
          "output_type": "stream",
          "name": "stdout",
          "text": [
            "Enter first number : 1\n",
            "Enter second number : 1\n",
            "Enter third number : 1\n",
            "c is the minimum\n"
          ]
        }
      ]
    },
    {
      "cell_type": "code",
      "source": [
        "#menu driven program\n",
        "fnum = int(input('Enter first number : '))\n",
        "snum = int(input('Enter second number : '))\n",
        "op = input('Enter the operation : ')\n",
        "if op == '+':\n",
        "  print('sum of both numbers is : ',fnum + snum)\n",
        "elif op == '-':\n",
        "  print('subtraction of both numbers is : ',fnum - snum)\n",
        "elif op == '*':\n",
        "  print('multiplication of both numbers is : ',fnum * snum)\n",
        "elif op == '/':\n",
        "  print('division of both numbers is : ',fnum / snum)\n",
        "else :\n",
        "  print('Invalid operation')"
      ],
      "metadata": {
        "colab": {
          "base_uri": "https://localhost:8080/"
        },
        "id": "dfcx9gSQPqCG",
        "outputId": "abd7d864-56b9-4d84-9aae-fa857718a750"
      },
      "execution_count": null,
      "outputs": [
        {
          "output_type": "stream",
          "name": "stdout",
          "text": [
            "Enter first number : 34\n",
            "Enter second number : 3\n",
            "Enter the operation : *\n",
            "multiplication of both numbers is :  102\n"
          ]
        }
      ]
    },
    {
      "cell_type": "markdown",
      "source": [
        "Module in python\n"
      ],
      "metadata": {
        "id": "Qo-lGP9hRGW0"
      }
    },
    {
      "cell_type": "code",
      "source": [
        "#math\n",
        "import math\n",
        "math.factorial(5)\n",
        "math.floor(6.8)\n",
        "math.sqrt(196)"
      ],
      "metadata": {
        "colab": {
          "base_uri": "https://localhost:8080/"
        },
        "id": "jLepcWn3QNUK",
        "outputId": "b045f0cc-4fba-40ef-9ae9-8bb9698d6666"
      },
      "execution_count": null,
      "outputs": [
        {
          "output_type": "execute_result",
          "data": {
            "text/plain": [
              "14.0"
            ]
          },
          "metadata": {},
          "execution_count": 41
        }
      ]
    },
    {
      "cell_type": "code",
      "source": [
        "#keyword\n",
        "import keyword\n",
        "print(keyword.kwlist)"
      ],
      "metadata": {
        "colab": {
          "base_uri": "https://localhost:8080/"
        },
        "id": "V8QcxvS7RZut",
        "outputId": "1c3db99b-b202-42b3-8b5a-e81c39de1207"
      },
      "execution_count": null,
      "outputs": [
        {
          "output_type": "stream",
          "name": "stdout",
          "text": [
            "['False', 'None', 'True', 'and', 'as', 'assert', 'async', 'await', 'break', 'class', 'continue', 'def', 'del', 'elif', 'else', 'except', 'finally', 'for', 'from', 'global', 'if', 'import', 'in', 'is', 'lambda', 'nonlocal', 'not', 'or', 'pass', 'raise', 'return', 'try', 'while', 'with', 'yield']\n"
          ]
        }
      ]
    },
    {
      "cell_type": "code",
      "source": [
        "#random\n",
        "import random\n",
        "print(random.randint(1,100))"
      ],
      "metadata": {
        "colab": {
          "base_uri": "https://localhost:8080/"
        },
        "id": "GdmTboMJRpOU",
        "outputId": "a3f8cb1f-de34-4596-a71e-48bf3e7fd9da"
      },
      "execution_count": null,
      "outputs": [
        {
          "output_type": "stream",
          "name": "stdout",
          "text": [
            "56\n"
          ]
        }
      ]
    },
    {
      "cell_type": "code",
      "source": [
        "#datetime\n",
        "import datetime\n",
        "print(datetime.datetime.now())"
      ],
      "metadata": {
        "colab": {
          "base_uri": "https://localhost:8080/"
        },
        "id": "yJue9BvjRwsb",
        "outputId": "4ae09af1-a0bf-43b8-cf15-48076b46d0d5"
      },
      "execution_count": null,
      "outputs": [
        {
          "output_type": "stream",
          "name": "stdout",
          "text": [
            "2025-03-29 14:21:34.643136\n"
          ]
        }
      ]
    },
    {
      "cell_type": "code",
      "source": [
        "#help('modules') ----> will tell all modules present in google colab"
      ],
      "metadata": {
        "id": "7xfdvNzER4tF"
      },
      "execution_count": null,
      "outputs": []
    },
    {
      "cell_type": "code",
      "source": [
        "#loops in python\n",
        "#EXAMPLE --->>> FLIPKART ---->> SAMSUNG PRODUCTS\n",
        "\n",
        "\n",
        "\n",
        "number = int(input('Enter the number : '))\n",
        "i = 1\n",
        "while i < 11:\n",
        "  print('4','*',i,'=',number * i)\n",
        "  i += 1"
      ],
      "metadata": {
        "colab": {
          "base_uri": "https://localhost:8080/"
        },
        "id": "P9MjW7sjSBwq",
        "outputId": "318d3b72-368b-4f13-b882-5620bd7f0a7e"
      },
      "execution_count": null,
      "outputs": [
        {
          "output_type": "stream",
          "name": "stdout",
          "text": [
            "Enter the number : 5\n",
            "4 * 1 = 5\n",
            "4 * 2 = 10\n",
            "4 * 3 = 15\n",
            "4 * 4 = 20\n",
            "4 * 5 = 25\n",
            "4 * 6 = 30\n",
            "4 * 7 = 35\n",
            "4 * 8 = 40\n",
            "4 * 9 = 45\n",
            "4 * 10 = 50\n"
          ]
        }
      ]
    },
    {
      "cell_type": "code",
      "source": [
        "#while loop with else\n",
        "x =1\n",
        "while x < 3:\n",
        "  print(x)\n",
        "  x += 1\n",
        "else:\n",
        "  print('limit crossed')"
      ],
      "metadata": {
        "colab": {
          "base_uri": "https://localhost:8080/"
        },
        "id": "OABlP-8BSXKD",
        "outputId": "d17698ec-5933-4589-af7a-e3fc32022b1d"
      },
      "execution_count": null,
      "outputs": [
        {
          "output_type": "stream",
          "name": "stdout",
          "text": [
            "1\n",
            "2\n",
            "limit crossed\n"
          ]
        }
      ]
    },
    {
      "cell_type": "code",
      "source": [
        "#guessing game\n",
        "import random\n",
        "number = random.randint(1,100)\n",
        "guess = int(input('Guess a number between 1 and 100 : '))\n",
        "count = 1\n",
        "while(guess != number):\n",
        "\n",
        "  if guess < number:                                                         #imp concept\n",
        "    print('too low number , guess higher')\n",
        "  else:\n",
        "    print('too high number , guess lower')\n",
        "  guess = int(input('Guess a number between 1 and 100 : '))\n",
        "  count += 1\n",
        "else:\n",
        "  print('you won!')\n",
        "  print('you took',count,'attempts')"
      ],
      "metadata": {
        "id": "YQK1uPWhTxtM"
      },
      "execution_count": null,
      "outputs": []
    },
    {
      "cell_type": "code",
      "source": [
        "# for loop\n",
        "for i in range(1,10,2):#10 is excluded # 2 is step size\n",
        "  print(i)"
      ],
      "metadata": {
        "colab": {
          "base_uri": "https://localhost:8080/"
        },
        "id": "hcaPqzn8WcFf",
        "outputId": "8f94d7fc-1498-4d38-eba6-8f1153561d5e"
      },
      "execution_count": null,
      "outputs": [
        {
          "output_type": "stream",
          "name": "stdout",
          "text": [
            "1\n",
            "3\n",
            "5\n",
            "7\n",
            "9\n"
          ]
        }
      ]
    },
    {
      "cell_type": "code",
      "source": [
        "for i in range (10,0,-1):\n",
        "  print(i)"
      ],
      "metadata": {
        "colab": {
          "base_uri": "https://localhost:8080/"
        },
        "id": "bk0-IX_eXTib",
        "outputId": "0aa14203-c372-42c1-ac0c-491e8dbd6bd7"
      },
      "execution_count": null,
      "outputs": [
        {
          "output_type": "stream",
          "name": "stdout",
          "text": [
            "10\n",
            "9\n",
            "8\n",
            "7\n",
            "6\n",
            "5\n",
            "4\n",
            "3\n",
            "2\n",
            "1\n"
          ]
        }
      ]
    },
    {
      "cell_type": "code",
      "source": [
        "for i in 'Delhi' :\n",
        "  print(i)"
      ],
      "metadata": {
        "colab": {
          "base_uri": "https://localhost:8080/"
        },
        "id": "4EM-q3NwXsW4",
        "outputId": "d1a44b3b-c6bb-42a1-8f65-458e781f534e"
      },
      "execution_count": null,
      "outputs": [
        {
          "output_type": "stream",
          "name": "stdout",
          "text": [
            "D\n",
            "e\n",
            "l\n",
            "h\n",
            "i\n"
          ]
        }
      ]
    },
    {
      "cell_type": "code",
      "source": [
        "for i in (1,2,3,4,5,6):\n",
        "  print(i)"
      ],
      "metadata": {
        "colab": {
          "base_uri": "https://localhost:8080/"
        },
        "id": "S_t8FwVXX2em",
        "outputId": "27a691ea-91a0-4cda-8665-391ae9780e6e"
      },
      "execution_count": null,
      "outputs": [
        {
          "output_type": "stream",
          "name": "stdout",
          "text": [
            "1\n",
            "2\n",
            "3\n",
            "4\n",
            "5\n",
            "6\n"
          ]
        }
      ]
    },
    {
      "cell_type": "code",
      "source": [
        "for i in {1,2,3,4,5}:\n",
        "  print(i)"
      ],
      "metadata": {
        "colab": {
          "base_uri": "https://localhost:8080/"
        },
        "id": "C72ksnpGYA47",
        "outputId": "f78e9378-cca6-4256-ca64-f3f9b2d8be16"
      },
      "execution_count": null,
      "outputs": [
        {
          "output_type": "stream",
          "name": "stdout",
          "text": [
            "1\n",
            "2\n",
            "3\n",
            "4\n",
            "5\n"
          ]
        }
      ]
    },
    {
      "cell_type": "code",
      "source": [
        "#population prediction\n",
        "currentPopulation = 10000\n",
        "for i in range (10,0,-1):\n",
        "  print(i,currentPopulation)\n",
        "  currentPopulation = currentPopulation - 0.1 * currentPopulation"
      ],
      "metadata": {
        "colab": {
          "base_uri": "https://localhost:8080/"
        },
        "id": "RmTh0unfYICN",
        "outputId": "2cb871be-0d03-4918-d100-2ad33c2c9ad4"
      },
      "execution_count": null,
      "outputs": [
        {
          "output_type": "stream",
          "name": "stdout",
          "text": [
            "10 10000\n",
            "9 9000.0\n",
            "8 8100.0\n",
            "7 7290.0\n",
            "6 6561.0\n",
            "5 5904.9\n",
            "4 5314.41\n",
            "3 4782.969\n",
            "2 4304.6721\n",
            "1 3874.20489\n"
          ]
        }
      ]
    },
    {
      "cell_type": "markdown",
      "source": [
        "\n",
        "\n",
        "*   break\n",
        "*   continue\n",
        "*   pass\n",
        "\n",
        "\n",
        "\n",
        "\n",
        "\n",
        "\n"
      ],
      "metadata": {
        "id": "TLhIo69F9mI-"
      }
    },
    {
      "cell_type": "code",
      "source": [
        "# when we do not want error to come ===== pass"
      ],
      "metadata": {
        "id": "vxtA6Be1Yhnt"
      },
      "execution_count": null,
      "outputs": []
    },
    {
      "cell_type": "code",
      "source": [],
      "metadata": {
        "id": "BpSWHxHL-Tte"
      },
      "execution_count": null,
      "outputs": []
    }
  ]
}