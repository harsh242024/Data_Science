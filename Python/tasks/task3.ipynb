{
  "nbformat": 4,
  "nbformat_minor": 0,
  "metadata": {
    "colab": {
      "provenance": []
    },
    "kernelspec": {
      "name": "python3",
      "display_name": "Python 3"
    },
    "language_info": {
      "name": "python"
    }
  },
  "cells": [
    {
      "cell_type": "code",
      "execution_count": 1,
      "metadata": {
        "colab": {
          "base_uri": "https://localhost:8080/"
        },
        "id": "z6_-TbRopEAV",
        "outputId": "62fedad0-a298-4aba-a1b6-e50f5f421ee4"
      },
      "outputs": [
        {
          "output_type": "stream",
          "name": "stdout",
          "text": [
            "task 3\n"
          ]
        }
      ],
      "source": [
        "print('task 3')"
      ]
    },
    {
      "cell_type": "code",
      "source": [
        "for i in range(0,5):\n",
        "  for j in range(5-i,0,-1):\n",
        "    print(j, end ='')\n",
        "  print()\n",
        ""
      ],
      "metadata": {
        "colab": {
          "base_uri": "https://localhost:8080/"
        },
        "id": "LDFvTaWZpHhm",
        "outputId": "2a1ae8d2-86dd-49ec-9215-c558b2b55f66"
      },
      "execution_count": 9,
      "outputs": [
        {
          "output_type": "stream",
          "name": "stdout",
          "text": [
            "54321\n",
            "4321\n",
            "321\n",
            "21\n",
            "1\n"
          ]
        }
      ]
    },
    {
      "cell_type": "code",
      "source": [
        "# short form of a string\n",
        "# mera approach ----> string ---> split(\" \") ----> store in list ---> loop chla kr string[0] extract krlo\n",
        "string = input('enter a string : ')\n",
        "result=''\n",
        "for i in string.split():\n",
        "  result = result +i[0].upper()\n",
        "print(result)"
      ],
      "metadata": {
        "colab": {
          "base_uri": "https://localhost:8080/"
        },
        "id": "vSKWTB1RxTvS",
        "outputId": "093c43de-ccde-4ea6-b5b6-ba5a4ac20451"
      },
      "execution_count": 2,
      "outputs": [
        {
          "output_type": "stream",
          "name": "stdout",
          "text": [
            "enter a string : hey how are you\n",
            "HHAY\n"
          ]
        }
      ]
    },
    {
      "cell_type": "code",
      "source": [
        "firstString = input('enter a string : ')\n",
        "secondString = input('enter a string : ')\n",
        "#result = ''\n",
        "print(firstString[0:int(len(firstString)/2)] + secondString + firstString[int(len(firstString)/2):])"
      ],
      "metadata": {
        "colab": {
          "base_uri": "https://localhost:8080/"
        },
        "id": "FwQd2bbAbCwp",
        "outputId": "827e3360-477f-40ed-fc95-f0488278290c"
      },
      "execution_count": 6,
      "outputs": [
        {
          "output_type": "stream",
          "name": "stdout",
          "text": [
            "enter a string : hello \n",
            "enter a string : world\n",
            "helworldlo \n"
          ]
        }
      ]
    },
    {
      "cell_type": "code",
      "source": [
        "string = 'HeLlOWWoRlD'\n",
        "upper = ''\n",
        "lower = ''\n",
        "for i in string:\n",
        "  if i.islower():   #imppp concept\n",
        "    lower = lower + i\n",
        "  else:\n",
        "    upper = upper + i\n",
        "print(lower + upper)"
      ],
      "metadata": {
        "colab": {
          "base_uri": "https://localhost:8080/"
        },
        "id": "CnNpK3kacV4p",
        "outputId": "3b38a756-ec1c-46a3-dbb0-e7048336bc66"
      },
      "execution_count": 10,
      "outputs": [
        {
          "output_type": "stream",
          "name": "stdout",
          "text": [
            "elolHLOWWRD\n"
          ]
        }
      ]
    },
    {
      "cell_type": "code",
      "source": [
        "s1 = input('enter a string : ')\n",
        "aplha = ''\n",
        "numeric = ''\n",
        "count,sum = 0,0\n",
        "for i in s1:\n",
        "  if i.isalpha():   # or if i.isdigit()\n",
        "    aplha = aplha + i\n",
        "  else:\n",
        "    numeric = numeric + i\n",
        "    count += 1\n",
        "    sum = sum + int(i)\n",
        "print(sum, sum/count)"
      ],
      "metadata": {
        "colab": {
          "base_uri": "https://localhost:8080/"
        },
        "id": "x4twxQ87ds_b",
        "outputId": "e6d1d1ed-e954-45dd-f5a7-bd6248ff4083"
      },
      "execution_count": 17,
      "outputs": [
        {
          "output_type": "stream",
          "name": "stdout",
          "text": [
            "enter a string : a1b2c3d4\n",
            "10 2.5\n"
          ]
        }
      ]
    },
    {
      "cell_type": "code",
      "source": [
        "s2 = input('enter a string : ')\n",
        "s3 = ''\n",
        "for i in s2:\n",
        "  if i.isdigit():\n",
        "    s3 = s3 + i\n",
        "  else:\n",
        "    pass\n",
        "print(s3)"
      ],
      "metadata": {
        "colab": {
          "base_uri": "https://localhost:8080/"
        },
        "id": "iuzbktPoeii5",
        "outputId": "c8485be5-de3f-4b06-ede3-d3debc6e8804"
      },
      "execution_count": 19,
      "outputs": [
        {
          "output_type": "stream",
          "name": "stdout",
          "text": [
            "enter a string : sfad123hjk456jk78dsf9\n",
            "123456789\n"
          ]
        }
      ]
    },
    {
      "cell_type": "code",
      "source": [
        "#symmetrical string\n",
        "'''\n",
        "s1= input('enter a string : ')\n",
        "s2 = s1[::-1]\n",
        "if s1 == s2:\n",
        "  print('symmetrical')\n",
        "else:\n",
        "  print('not symmetrical')\n",
        "'''\n",
        "\n",
        "s= input('enter a string : ')\n",
        "if len(s)%2 == 0:\n",
        "  s1 = s[0:len(s)//2]\n",
        "  s2 = s[len(s)//2:]\n",
        "else :\n",
        "  s1 = s[0:len(s)//2]\n",
        "  s2 = s[len(s)//2 + 1 :]\n",
        "if s1 == s2:\n",
        "  print('symmetrical')\n",
        "else:\n",
        "  print('not symmetrical')"
      ],
      "metadata": {
        "colab": {
          "base_uri": "https://localhost:8080/"
        },
        "id": "i3gph1pwf2N5",
        "outputId": "b5475015-2208-436a-ad98-8ba86b20368e"
      },
      "execution_count": 23,
      "outputs": [
        {
          "output_type": "stream",
          "name": "stdout",
          "text": [
            "enter a string : hiihi\n",
            "symmetrical\n"
          ]
        }
      ]
    },
    {
      "cell_type": "code",
      "source": [
        "s= input('enter a string : ')\n",
        "L = []\n",
        "for i in s.split():\n",
        "  L.append(i)\n",
        "L = L[::-1]\n",
        "print(\" \".join(L))"
      ],
      "metadata": {
        "colab": {
          "base_uri": "https://localhost:8080/"
        },
        "id": "rmVFiz-pgeGz",
        "outputId": "fe174230-4cc9-4270-921b-ed73b39b245b"
      },
      "execution_count": 25,
      "outputs": [
        {
          "output_type": "stream",
          "name": "stdout",
          "text": [
            "enter a string : hey how are you\n",
            "you are how hey\n"
          ]
        }
      ]
    },
    {
      "cell_type": "code",
      "source": [
        "A = \"apple banana mango\"\n",
        "B = \"banana fruits mango\"\n",
        "L = []\n",
        "for i in A.split():\n",
        "  if i not in B and i not in L:\n",
        "    L.append(i)\n",
        "for j in B.split():\n",
        "  if j not in A and j not in L:\n",
        "    L.append(j)\n",
        "print(L)"
      ],
      "metadata": {
        "colab": {
          "base_uri": "https://localhost:8080/"
        },
        "id": "WjoG5Z0HiTpP",
        "outputId": "d7dfd6a9-36bc-4b82-9507-d642e214c630"
      },
      "execution_count": 27,
      "outputs": [
        {
          "output_type": "stream",
          "name": "stdout",
          "text": [
            "['apple', 'fruits']\n"
          ]
        }
      ]
    },
    {
      "cell_type": "code",
      "source": [
        "s = 'We can learn data science through campusx mentorship program.'\n",
        "word = 'campusx'\n",
        "pos = 0\n",
        "for i in s.split():\n",
        "  if i == word:\n",
        "    break\n",
        "  pos = pos + 1\n",
        "print(pos)"
      ],
      "metadata": {
        "colab": {
          "base_uri": "https://localhost:8080/"
        },
        "id": "tUizdCrtjjI4",
        "outputId": "f2caa8d6-9b8e-48cd-f1fc-e7b3d3c9d0aa"
      },
      "execution_count": 32,
      "outputs": [
        {
          "output_type": "stream",
          "name": "stdout",
          "text": [
            "6\n"
          ]
        }
      ]
    },
    {
      "cell_type": "code",
      "source": [
        "s = 'aabbbbcccccddddeeeeffffgggghhhhiiiiiijjjjkkkllllmmmnnnooopppqqqqrrrssstttt'\n",
        "result = ''\n",
        "for i in s:\n",
        "  if i not in result:\n",
        "    result += i\n",
        "\n",
        "print(result)"
      ],
      "metadata": {
        "colab": {
          "base_uri": "https://localhost:8080/"
        },
        "id": "JfylanCTkBiw",
        "outputId": "a100834c-f31e-4fd8-dbdb-824b54f03b04"
      },
      "execution_count": 33,
      "outputs": [
        {
          "output_type": "stream",
          "name": "stdout",
          "text": [
            "abcdefghijklmnopqrst\n"
          ]
        }
      ]
    },
    {
      "cell_type": "code",
      "source": [],
      "metadata": {
        "id": "JHmHfOz8k0H4"
      },
      "execution_count": null,
      "outputs": []
    }
  ]
}