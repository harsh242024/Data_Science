{
  "cells": [
    {
      "cell_type": "code",
      "execution_count": null,
      "metadata": {
        "colab": {
          "base_uri": "https://localhost:8080/"
        },
        "id": "30qqlQIh4yZe",
        "outputId": "47d63f06-dbf7-4e54-ccaf-723991888a0c"
      },
      "outputs": [
        {
          "name": "stdout",
          "output_type": "stream",
          "text": [
            "data-science-mentorship-program-by-campusX\n"
          ]
        }
      ],
      "source": [
        "print('data','science','mentorship','program','by',\"campusX\",sep = '-')"
      ]
    },
    {
      "cell_type": "code",
      "execution_count": null,
      "metadata": {
        "colab": {
          "base_uri": "https://localhost:8080/"
        },
        "id": "k6Zbtwpf413r",
        "outputId": "027d2c96-8b94-4517-aa32-14dd826bba39"
      },
      "outputs": [
        {
          "name": "stdout",
          "output_type": "stream",
          "text": [
            "30\n",
            "86.0\n"
          ]
        }
      ],
      "source": [
        "tempC=int(input())\n",
        "tempF=(9/5*tempC) + 32\n",
        "print(tempF)"
      ]
    },
    {
      "cell_type": "code",
      "execution_count": null,
      "metadata": {
        "colab": {
          "base_uri": "https://localhost:8080/"
        },
        "id": "jSSyYqzd9N65",
        "outputId": "601b0aff-fd80-438f-f09b-ab10958b0467"
      },
      "outputs": [
        {
          "name": "stdout",
          "output_type": "stream",
          "text": [
            "enter 1st number : 10\n",
            "enter 2nd number : 20\n",
            "20 10\n"
          ]
        }
      ],
      "source": [
        "number1=int(input('enter 1st number : '))\n",
        "number2=int(input('enter 2nd number : '))\n",
        "swap=number1\n",
        "number1=number2\n",
        "number2=swap\n",
        "print(number1,number2)"
      ]
    },
    {
      "cell_type": "code",
      "execution_count": null,
      "metadata": {
        "id": "qbSrpyTK63g4"
      },
      "outputs": [],
      "source": [
        "x1=int(input('enter x1 : '))\n",
        "x2=int(input('enter x2 : '))\n",
        "y1=int(input('enter y1 : '))\n",
        "y2=int(input('enter y2 : '))\n",
        "dist = ((x2-x1) + (y2-y1))**0.5\n",
        "print(dist)#euclid dist formula"
      ]
    },
    {
      "cell_type": "code",
      "execution_count": null,
      "metadata": {
        "colab": {
          "base_uri": "https://localhost:8080/"
        },
        "id": "I1dICU4d8mEK",
        "outputId": "1c579456-c810-4387-edf7-0f1868d8f141"
      },
      "outputs": [
        {
          "name": "stdout",
          "output_type": "stream",
          "text": [
            "enter P : 1000\n",
            "enter R : 10\n",
            "enter T : 10\n",
            "1000.0\n"
          ]
        }
      ],
      "source": [
        "P=int(input('enter P : '))\n",
        "R=int(input('enter R : '))\n",
        "T=int(input('enter T : '))\n",
        "SI=(P*R*T)/100\n",
        "print(SI)"
      ]
    },
    {
      "cell_type": "code",
      "execution_count": null,
      "metadata": {
        "colab": {
          "base_uri": "https://localhost:8080/"
        },
        "id": "QriZ1j1S9Bx6",
        "outputId": "520f949d-0b17-49ad-a465-50c8656901b9"
      },
      "outputs": [
        {
          "output_type": "stream",
          "name": "stdout",
          "text": [
            "4\n",
            "12\n",
            "2.0 2.0\n"
          ]
        }
      ],
      "source": [
        "heads = int(input())\n",
        "legs = int(input())\n",
        "# C + D = heads\n",
        "# 2C + 4D = legs\n",
        "d=0\n",
        "c=0\n",
        "d = (legs - 2*heads)/2\n",
        "c = heads - d\n",
        "print(c,d)"
      ]
    },
    {
      "cell_type": "code",
      "execution_count": null,
      "metadata": {
        "colab": {
          "base_uri": "https://localhost:8080/"
        },
        "id": "t0GCVqI5-c_o",
        "outputId": "86c2fbac-5ee0-49a9-a99a-04320293ac80"
      },
      "outputs": [
        {
          "output_type": "stream",
          "name": "stdout",
          "text": [
            "choose a number : 3\n",
            "6\n"
          ]
        }
      ],
      "source": [
        "n = int(input(\"choose a number : \"))\n",
        "sum =0\n",
        "for i in range (1,n+1) : #** n+1 because last value is not included\n",
        "  sum = sum + i\n",
        "print(sum)\n",
        "\n",
        "#for sum of squares of n numbers\n",
        "# result = (n*(n+1)*(2*n+1))/6"
      ]
    },
    {
      "cell_type": "code",
      "execution_count": null,
      "metadata": {
        "colab": {
          "background_save": true
        },
        "id": "GzlryKjIrxT6",
        "outputId": "42ed474e-7651-427f-b2ec-1f0d58d79edd"
      },
      "outputs": [
        {
          "name": "stdout",
          "output_type": "stream",
          "text": [
            "99\n"
          ]
        }
      ],
      "source": [
        "#formula = a + (n-1)d\n",
        "#difference (d) = (second term - first term)\n",
        "firstTerm = int(input('enter the first term of an AP : '))\n",
        "secondTerm = int(input(('enter the second term of an AP : ')))\n",
        "difference = secondTerm - firstTerm\n",
        "n = int(input('enter the value of n : '))\n",
        "An = firstTerm + (n-1)*difference\n",
        "print(An)"
      ]
    },
    {
      "cell_type": "code",
      "execution_count": null,
      "metadata": {
        "colab": {
          "base_uri": "https://localhost:8080/"
        },
        "id": "qaPfKfdip6Hl",
        "outputId": "3e91b59c-0e54-478a-827d-5814a29ad99b"
      },
      "outputs": [
        {
          "name": "stdout",
          "output_type": "stream",
          "text": [
            "1\n",
            "4\n",
            "1\n",
            "4\n",
            "0.5\n"
          ]
        }
      ],
      "source": [
        "#fraction\n",
        "numerator1=int(input())\n",
        "denominator1=int(input())\n",
        "numerator2=int(input())\n",
        "denominator2=int(input())\n",
        "resultingFraction = (numerator1*denominator2 + numerator2*denominator1)/(denominator1*denominator2)\n",
        "print(resultingFraction)"
      ]
    },
    {
      "cell_type": "code",
      "execution_count": null,
      "metadata": {
        "colab": {
          "base_uri": "https://localhost:8080/"
        },
        "id": "HzbMNukGsahx",
        "outputId": "84e90a8e-8eda-4f95-bd2e-1a9db3b3c51d"
      },
      "outputs": [
        {
          "output_type": "stream",
          "name": "stdout",
          "text": [
            "height10\n",
            "breadth10\n",
            "length10\n",
            "height10\n",
            "radius10\n",
            "no. of glasses :  -2140\n"
          ]
        }
      ],
      "source": [
        "import math\n",
        "h_t=float(input('height'))\n",
        "b_t=float(input('breadth'))\n",
        "l_t=float(input('length'))\n",
        "h_g=float(input('height'))\n",
        "r_g=float(input('radius'))\n",
        "vol_tank = h_t*b_t*l_t\n",
        "vol_glass = 3.14*r_g*r_g*h_g\n",
        "print('no. of glasses : ', math.floor(vol_tank-vol_glass)) ######   math lib used"
      ]
    },
    {
      "cell_type": "code",
      "execution_count": null,
      "metadata": {
        "id": "xsY28a8gtpCT"
      },
      "outputs": [],
      "source": []
    }
  ],
  "metadata": {
    "colab": {
      "provenance": []
    },
    "kernelspec": {
      "display_name": "Python 3",
      "name": "python3"
    },
    "language_info": {
      "name": "python"
    }
  },
  "nbformat": 4,
  "nbformat_minor": 0
}