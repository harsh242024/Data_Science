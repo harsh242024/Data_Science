{
  "nbformat": 4,
  "nbformat_minor": 0,
  "metadata": {
    "colab": {
      "provenance": []
    },
    "kernelspec": {
      "name": "python3",
      "display_name": "Python 3"
    },
    "language_info": {
      "name": "python"
    }
  },
  "cells": [
    {
      "cell_type": "code",
      "execution_count": null,
      "metadata": {
        "colab": {
          "base_uri": "https://localhost:8080/"
        },
        "id": "SKcVF3Ms2zY4",
        "outputId": "f0dfc0a7-0585-4bb8-cb45-3a7171abdd56"
      },
      "outputs": [
        {
          "output_type": "stream",
          "name": "stdout",
          "text": [
            "Enter CTC: 100\n",
            " SALARY is :  82.0\n"
          ]
        }
      ],
      "source": [
        "ctc = int (input (\"Enter CTC: \"))\n",
        "if(ctc < 500000):\n",
        "  salary = ctc*.82\n",
        "elif ctc < 1000000 :\n",
        "  salary = ctc*.72\n",
        "elif ctc < 2000000 :\n",
        "  salary = ctc * .52\n",
        "print(\" SALARY is : \", salary)"
      ]
    },
    {
      "cell_type": "code",
      "source": [
        "a = int(input(\"enter first angle of a triangle : \"))\n",
        "b = int(input(\"enter second angle of a triangle : \"))\n",
        "c = int(input(\"enter third angle of a triangle : \"))\n",
        "if (a+b+c == 180 and a>0 and b>0 and c > 0):\n",
        "  print(\"triangle is valid\")\n",
        "else:\n",
        "  print(\"triangle is not valid\")\n"
      ],
      "metadata": {
        "colab": {
          "base_uri": "https://localhost:8080/"
        },
        "id": "Irxlj8g-38Jf",
        "outputId": "ac458437-7505-45a7-fe02-a35d869b9f3a"
      },
      "execution_count": null,
      "outputs": [
        {
          "output_type": "stream",
          "name": "stdout",
          "text": [
            "enter first angle of a triangle : 34\n",
            "enter second angle of a triangle : 34\n",
            "enter third angle of a triangle : 66\n",
            "triangle is not valid\n"
          ]
        }
      ]
    },
    {
      "cell_type": "code",
      "source": [
        "cp = int(input(\"enter cost price : \"))\n",
        "sp = int(input(\"Enter the selling price : \"))\n",
        "if (cp < sp ):\n",
        "  print('profit')\n",
        "elif (cp > sp ):\n",
        "  print('loss')\n",
        "else :\n",
        "  print('no profit no loss')\n"
      ],
      "metadata": {
        "colab": {
          "base_uri": "https://localhost:8080/"
        },
        "id": "scXANpuI4kqT",
        "outputId": "35a83af6-e821-4375-bf7e-1683f7a7c5a6"
      },
      "execution_count": null,
      "outputs": [
        {
          "output_type": "stream",
          "name": "stdout",
          "text": [
            "enter cost price : 55\n",
            "Enter the selling price : 55\n",
            "no profit no loss\n"
          ]
        }
      ]
    },
    {
      "cell_type": "code",
      "source": [
        "menu = input(\"\"\"\n",
        "HI select an option\n",
        "1.cms to ft\n",
        "2. km to miles\n",
        "3. USD to INR\n",
        "4. Exit\n",
        "\"\"\")\n",
        "\n",
        "if menu == '1':\n",
        "  cms = int(input(\"enter cms : \"))\n",
        "  ft = cms/30.48\n",
        "  print(ft)\n",
        "elif menu == '2':\n",
        "  km = int(input(\"enter km : \"))\n",
        "  miles = km/1.609\n",
        "  print(miles)\n",
        "elif menu == 3:\n",
        "  usd = float(input('enter usd : '))\n",
        "  inr = usd*75\n",
        "  print(inr)\n",
        "else :\n",
        "  exit() # When you call exit() in a script or interactive session (like in Python or Google Colab), it will stop the program and terminate the execution."
      ],
      "metadata": {
        "colab": {
          "base_uri": "https://localhost:8080/"
        },
        "id": "IlBmsKe36IX5",
        "outputId": "f79dbaec-0a06-4283-ba96-70d5ee87d527"
      },
      "execution_count": 1,
      "outputs": [
        {
          "output_type": "stream",
          "name": "stdout",
          "text": [
            "\n",
            "HI select an option\n",
            "1.cms to ft\n",
            "2. km to miles\n",
            "3. USD to INR\n",
            "4. Exit\n",
            "1\n",
            "enter cms : 10\n",
            "0.32808398950131235\n"
          ]
        }
      ]
    },
    {
      "cell_type": "code",
      "source": [
        "#fibonacci\n",
        "'''\n",
        "firstTerm = int(input(\"enter first term : \"))\n",
        "secondTerm = int(input(\"enter second term : \"))\n",
        "n = int(input(\"enter the number of terms : \"))\n",
        "for i in range(1,n+1):\n",
        "  if n == 1 :\n",
        "    print('first term is : ', firstTerm)\n",
        "    break\n",
        "  elif n == 2 :\n",
        "    print('first and second term is : ',firstTerm, '', secondTerm)\n",
        "    break\n",
        "  else :\n",
        "    nextTerm = firstTerm + secondTerm\n",
        "    firstTerm = secondTerm\n",
        "    secondTerm = nextTerm\n",
        "    print(nextTerm)\n",
        "    '''\n",
        "firstTerm = int(input(\"enter first term : \"))\n",
        "secondTerm = int(input(\"enter second term : \"))\n",
        "n = int(input(\"enter the number of terms : \"))\n",
        "for i in range (0,n):\n",
        "  print(firstTerm)\n",
        "  nextTerm = firstTerm + secondTerm\n",
        "  firstTerm = secondTerm\n",
        "  secondTerm = nextTerm"
      ],
      "metadata": {
        "id": "aymEMFkV7RWI",
        "colab": {
          "base_uri": "https://localhost:8080/"
        },
        "outputId": "8683ddf5-6e64-435d-ad06-93ce8af15326"
      },
      "execution_count": 7,
      "outputs": [
        {
          "output_type": "stream",
          "name": "stdout",
          "text": [
            "enter first term : 0\n",
            "enter second term : 1\n",
            "enter the number of terms : 10\n",
            "0\n",
            "1\n",
            "1\n",
            "2\n",
            "3\n",
            "5\n",
            "8\n",
            "13\n",
            "21\n",
            "34\n"
          ]
        }
      ]
    },
    {
      "cell_type": "code",
      "source": [
        "#factorial\n",
        "number = int(input(' Enter a number to which you need to find factorial: '))\n",
        "fact = 1\n",
        "for i in range(1,number+1):\n",
        "  fact*=i\n",
        "print(fact)\n",
        "\n",
        "#####  immmpppp i = i + 1 likhne ki zrurt nhhi haiiii for loop mai , but while loop mai likhna pdega"
      ],
      "metadata": {
        "colab": {
          "base_uri": "https://localhost:8080/"
        },
        "id": "iO3DQRa0sz1U",
        "outputId": "4dccf06a-818b-42ff-b1ca-963a1d4c31e8"
      },
      "execution_count": 11,
      "outputs": [
        {
          "output_type": "stream",
          "name": "stdout",
          "text": [
            " Enter a number to which you need to find factorial: 5\n",
            "120\n"
          ]
        }
      ]
    },
    {
      "cell_type": "code",
      "source": [
        "#reverse a given integer number\n",
        "num = int ( input(' enter a number to be reversed : '))\n",
        "last = 0    # need nhhi hai vese iski\n",
        "rev = 0\n",
        "i = 0\n",
        "while num>0 : # or while num != 0\n",
        "  last = num % 10\n",
        "  rev = rev * 10 + last\n",
        "  num = num//10\n",
        "print(rev)"
      ],
      "metadata": {
        "colab": {
          "base_uri": "https://localhost:8080/"
        },
        "id": "9vZaz2SAuS22",
        "outputId": "22c01c9b-775c-457b-e3fe-57ff2f7c6210"
      },
      "execution_count": 12,
      "outputs": [
        {
          "output_type": "stream",
          "name": "stdout",
          "text": [
            " enter a number to be reversed : 123456789\n",
            "987654321\n"
          ]
        }
      ]
    },
    {
      "cell_type": "code",
      "source": [
        "#to calculate sum upto 300 without using loop concept\n",
        "'''n = int(input( 'enter a number till we need to calculate sum : '))\n",
        "i = 1\n",
        "sum = 0\n",
        "if n < 300 :\n",
        "  sum = sum + i\n",
        "'''\n",
        "n = int(input( 'enter a number till we need to calculate sum : '))\n",
        "sum = 0\n",
        "for i in range(1, n+1):\n",
        "  if i % 5 == 0:\n",
        "    continue\n",
        "  sum += i\n",
        "  if sum > 300:\n",
        "    sum -= i\n",
        "    break\n",
        "print(sum)\n",
        "        ######  i = i + 1 use hoga jb while loop use krenge"
      ],
      "metadata": {
        "colab": {
          "base_uri": "https://localhost:8080/"
        },
        "id": "_0cyErDPwWZt",
        "outputId": "23049d50-912a-4559-fd88-fd70dd1a0d86"
      },
      "execution_count": 16,
      "outputs": [
        {
          "output_type": "stream",
          "name": "stdout",
          "text": [
            "enter a number till we need to calculate sum : 5000\n",
            "276\n"
          ]
        }
      ]
    },
    {
      "cell_type": "code",
      "source": [
        "#sum and average until user input 0\n",
        "sum = num\n",
        "count = 0\n",
        "while True :    # infinite loop\n",
        "  num = int(input('enter a number : '))\n",
        "  if num == 0 :\n",
        "    break\n",
        "  sum += num\n",
        "  count += 1\n",
        "avg = sum / count\n",
        "print(sum)\n",
        "print(avg)\n"
      ],
      "metadata": {
        "colab": {
          "base_uri": "https://localhost:8080/"
        },
        "id": "kcvpD0UOysYC",
        "outputId": "f830ed0f-546c-42d9-9764-058d8d86474b"
      },
      "execution_count": 19,
      "outputs": [
        {
          "output_type": "stream",
          "name": "stdout",
          "text": [
            "enter a number : 1\n",
            "enter a number : 2\n",
            "enter a number : 3\n",
            "enter a number : 0\n",
            "6\n",
            "2.0\n"
          ]
        }
      ]
    },
    {
      "cell_type": "code",
      "source": [
        "'''\n",
        "for i in range(2000, 3201):\n",
        "  if( i % 7 == 0 and i % 5 != 0):\n",
        "    print(i,sep =',')\n",
        "    i+=1\n",
        "  else:\n",
        "    i+=1\n",
        "    continue\n",
        "'''\n",
        "L=[]\n",
        "for i in range(2000, 3201):\n",
        "  if( i % 7 == 0 and i % 5 != 0):\n",
        "    L.append(i)\n",
        "print(L)\n",
        "\n",
        "''' another method\n",
        "L=[]\n",
        "for i in range(2000, 3201):\n",
        "  if( i % 7 == 0 and i % 5 != 0):\n",
        "    L.append(str(i))\n",
        "print(','.join(L))\n",
        "'''"
      ],
      "metadata": {
        "colab": {
          "base_uri": "https://localhost:8080/",
          "height": 91
        },
        "id": "HkSX2bQ6062z",
        "outputId": "df5b63e2-ba2d-42f2-e376-bab23fa52cf5"
      },
      "execution_count": 23,
      "outputs": [
        {
          "output_type": "stream",
          "name": "stdout",
          "text": [
            "[2002, 2009, 2016, 2023, 2037, 2044, 2051, 2058, 2072, 2079, 2086, 2093, 2107, 2114, 2121, 2128, 2142, 2149, 2156, 2163, 2177, 2184, 2191, 2198, 2212, 2219, 2226, 2233, 2247, 2254, 2261, 2268, 2282, 2289, 2296, 2303, 2317, 2324, 2331, 2338, 2352, 2359, 2366, 2373, 2387, 2394, 2401, 2408, 2422, 2429, 2436, 2443, 2457, 2464, 2471, 2478, 2492, 2499, 2506, 2513, 2527, 2534, 2541, 2548, 2562, 2569, 2576, 2583, 2597, 2604, 2611, 2618, 2632, 2639, 2646, 2653, 2667, 2674, 2681, 2688, 2702, 2709, 2716, 2723, 2737, 2744, 2751, 2758, 2772, 2779, 2786, 2793, 2807, 2814, 2821, 2828, 2842, 2849, 2856, 2863, 2877, 2884, 2891, 2898, 2912, 2919, 2926, 2933, 2947, 2954, 2961, 2968, 2982, 2989, 2996, 3003, 3017, 3024, 3031, 3038, 3052, 3059, 3066, 3073, 3087, 3094, 3101, 3108, 3122, 3129, 3136, 3143, 3157, 3164, 3171, 3178, 3192, 3199]\n"
          ]
        },
        {
          "output_type": "execute_result",
          "data": {
            "text/plain": [
              "\" another method\\nL=[]\\nfor i in range(2000, 3201):\\n  if( i % 7 == 0 and i % 5 != 0):\\n    L.append(str(i))\\nprint(','.join(L))\\n\""
            ],
            "application/vnd.google.colaboratory.intrinsic+json": {
              "type": "string"
            }
          },
          "metadata": {},
          "execution_count": 23
        }
      ]
    },
    {
      "cell_type": "code",
      "source": [
        "#Write a program, which will find all such numbers between 1000 and 3000 (both included) such that each digit of the number is an even number. The numbers obtained should be printed in a space-separated sequence on a single line\n",
        "L=[]\n",
        "for i in range (2000, 3000):\n",
        "  flag = True\n",
        "  curr = i\n",
        "  while (curr>0):\n",
        "    last = curr % 10\n",
        "    if last % 2 != 0:\n",
        "      flag = False\n",
        "      break\n",
        "    curr = curr // 10\n",
        "  if flag :\n",
        "    L.append(str(i))    # append ko print krwaoge to none aayega\n",
        "print('-'.join(L))"
      ],
      "metadata": {
        "colab": {
          "base_uri": "https://localhost:8080/"
        },
        "id": "0YyI_qIE3seZ",
        "outputId": "2dd4a485-b0cb-4b66-9e09-543b8429d5d4"
      },
      "execution_count": 25,
      "outputs": [
        {
          "output_type": "stream",
          "name": "stdout",
          "text": [
            "2000-2002-2004-2006-2008-2020-2022-2024-2026-2028-2040-2042-2044-2046-2048-2060-2062-2064-2066-2068-2080-2082-2084-2086-2088-2200-2202-2204-2206-2208-2220-2222-2224-2226-2228-2240-2242-2244-2246-2248-2260-2262-2264-2266-2268-2280-2282-2284-2286-2288-2400-2402-2404-2406-2408-2420-2422-2424-2426-2428-2440-2442-2444-2446-2448-2460-2462-2464-2466-2468-2480-2482-2484-2486-2488-2600-2602-2604-2606-2608-2620-2622-2624-2626-2628-2640-2642-2644-2646-2648-2660-2662-2664-2666-2668-2680-2682-2684-2686-2688-2800-2802-2804-2806-2808-2820-2822-2824-2826-2828-2840-2842-2844-2846-2848-2860-2862-2864-2866-2868-2880-2882-2884-2886-2888\n"
          ]
        }
      ]
    },
    {
      "cell_type": "code",
      "source": [
        "#A robot moves in a plane starting from the original point (0,0). The robot can move toward UP, DOWN, LEFT and RIGHT with a given steps. The trace of robot movement is shown as the following:\n",
        "pos = [0,0]\n",
        "while True:\n",
        "  path = input('enter the path of robot : ')\n",
        "  if path == '!' :\n",
        "    break\n",
        "  direction = path.split()[0]\n",
        "  steps = int(path.split()[1])\n",
        "  if direction == 'UP':\n",
        "    pos[1] += steps\n",
        "  elif direction == 'DOWN':\n",
        "    pos[1] -= steps\n",
        "  elif direction == 'LEFT':\n",
        "    pos[0] -= steps\n",
        "  elif direction == 'RIGHT':\n",
        "    pos[0] += steps\n",
        "print(pos)\n",
        "print(int(round((pos[0]**2 + pos[1]**2)**0.5)))\n",
        "\n",
        "\n",
        "\n",
        "\n",
        "\n",
        "\n",
        "\n",
        "\n",
        "\n",
        "\n"
      ],
      "metadata": {
        "colab": {
          "base_uri": "https://localhost:8080/"
        },
        "id": "TtIgZ-6-595n",
        "outputId": "bba90d6f-3280-4acf-877a-34bb4e752599"
      },
      "execution_count": 27,
      "outputs": [
        {
          "output_type": "stream",
          "name": "stdout",
          "text": [
            "enter the path of robot : UP 3\n",
            "enter the path of robot : DOWN 3\n",
            "enter the path of robot : RIGHT 5\n",
            "enter the path of robot : LEFT 4\n",
            "enter the path of robot : !\n",
            "[1, 0]\n",
            "1\n"
          ]
        }
      ]
    },
    {
      "cell_type": "code",
      "source": [
        "#Please write a program to compute the distance from current position after a sequence of movement and original point\n"
      ],
      "metadata": {
        "id": "eHDR100G6hXY"
      },
      "execution_count": null,
      "outputs": []
    },
    {
      "cell_type": "code",
      "source": [
        "#Write a program to print whether a given number is a prime number or not\n",
        "num = int(input(\"enter a number : \"))\n",
        "flag = 1\n",
        "for i in range (2,num):\n",
        "  if num == 1 or num == 2 :\n",
        "    print('prime')\n",
        "    break\n",
        "  else :\n",
        "    if num % i == 0:\n",
        "      flag = 0\n",
        "      break\n",
        "if flag == 0 :\n",
        "  print('not prime')\n",
        "else:\n",
        "  print('prime')\n",
        "\n",
        ""
      ],
      "metadata": {
        "colab": {
          "base_uri": "https://localhost:8080/"
        },
        "id": "tut9Gi4W6vSi",
        "outputId": "a7e19199-4bb3-44cf-abc1-626192ee3b86"
      },
      "execution_count": 65,
      "outputs": [
        {
          "output_type": "stream",
          "name": "stdout",
          "text": [
            "enter a number : 11\n",
            "prime\n"
          ]
        }
      ]
    },
    {
      "cell_type": "code",
      "source": [
        "#armstrong number"
      ],
      "metadata": {
        "id": "O6u11MSv65tw"
      },
      "execution_count": 57,
      "outputs": []
    },
    {
      "cell_type": "code",
      "source": [
        "# to print angle between the clock hands"
      ],
      "metadata": {
        "colab": {
          "base_uri": "https://localhost:8080/"
        },
        "id": "qAPkqUTm_fnl",
        "outputId": "e193d68f-738b-409c-aab1-73f17a9e7a26"
      },
      "execution_count": 64,
      "outputs": [
        {
          "output_type": "stream",
          "name": "stdout",
          "text": [
            "hi\n"
          ]
        }
      ]
    },
    {
      "cell_type": "code",
      "source": [
        "#overlapping of recatngles"
      ],
      "metadata": {
        "id": "Conn9rkZ_god"
      },
      "execution_count": null,
      "outputs": []
    }
  ]
}