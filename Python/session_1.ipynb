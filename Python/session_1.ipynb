{
  "nbformat": 4,
  "nbformat_minor": 0,
  "metadata": {
    "colab": {
      "provenance": []
    },
    "kernelspec": {
      "name": "python3",
      "display_name": "Python 3"
    },
    "language_info": {
      "name": "python"
    }
  },
  "cells": [
    {
      "cell_type": "code",
      "execution_count": 41,
      "metadata": {
        "colab": {
          "base_uri": "https://localhost:8080/"
        },
        "id": "iyAavL5mswnX",
        "outputId": "8830464a-b42f-42b6-8dff-5b6b4592c3b7"
      },
      "outputs": [
        {
          "output_type": "stream",
          "name": "stdout",
          "text": [
            "hello world\n",
            "hey there\n",
            "7\n",
            "8.8\n",
            "True\n",
            "hello 1 1.4\n"
          ]
        }
      ],
      "source": [
        "#python is case sensitive\n",
        "#python is interpreted language, compilers are fast, but it is based on interpretor so it is slow\n",
        "#this is a comment '#'\n",
        "print(\"hello world\")\n",
        "print('hey there')\n",
        "print(7)\n",
        "print(8.8)\n",
        "print(True)\n",
        "print('hello',1,1.4) #can print multiple data types\n",
        "#error print(hello)"
      ]
    },
    {
      "cell_type": "code",
      "source": [
        "print('hello', 1,2,3,sep='**')#separator"
      ],
      "metadata": {
        "colab": {
          "base_uri": "https://localhost:8080/"
        },
        "id": "9uncQ8ibs28N",
        "outputId": "d84b9f18-41eb-4461-99e0-ab497cca83db"
      },
      "execution_count": 10,
      "outputs": [
        {
          "output_type": "stream",
          "name": "stdout",
          "text": [
            "hello**1**2**3\n"
          ]
        }
      ]
    },
    {
      "cell_type": "code",
      "source": [
        "print('hello',1,2,3,end='*') #will change the ending of print statement"
      ],
      "metadata": {
        "colab": {
          "base_uri": "https://localhost:8080/"
        },
        "id": "Z1jDCFbVtE9e",
        "outputId": "9bb7eb24-5f38-4728-e2d6-2b2dde099bb4"
      },
      "execution_count": 12,
      "outputs": [
        {
          "output_type": "stream",
          "name": "stdout",
          "text": [
            "hello 1 2 3*"
          ]
        }
      ]
    },
    {
      "cell_type": "code",
      "source": [
        "#datatypes\n",
        "\n",
        "#integer\n",
        "print(8)\n",
        "#1*10^308\n",
        "print(1e308)\n",
        "\n",
        "#decimal/float\n",
        "print(3.8)\n",
        "\n",
        "#boolean\n",
        "print(True)\n",
        "print(False)\n",
        "\n",
        "#string\n",
        "print('hello world')\n",
        "\n",
        "#complex nums\n",
        "print(5 + 7j)\n",
        "\n",
        "#List -> C -> Array\n",
        "print([1,2,4,5])\n",
        "\n",
        "#Tuple\n",
        "print((1,2,3,4,45))\n",
        "\n",
        "#sets\n",
        "print({1,2,3,4,5,6})\n",
        "\n",
        "#dictionary\n",
        "print({'name':'Harsh','gender':'male'})"
      ],
      "metadata": {
        "colab": {
          "base_uri": "https://localhost:8080/"
        },
        "id": "HFuT-5cnufYB",
        "outputId": "0c82d3ee-a89b-40e1-e961-49b0a003e065"
      },
      "execution_count": 19,
      "outputs": [
        {
          "output_type": "stream",
          "name": "stdout",
          "text": [
            "8\n",
            "1e+308\n",
            "3.8\n",
            "True\n",
            "False\n",
            "hello world\n",
            "(5+7j)\n",
            "[1, 2, 4, 5]\n",
            "(1, 2, 3, 4, 45)\n",
            "{1, 2, 3, 4, 5, 6}\n",
            "{'name': 'Harsh', 'gender': 'male'}\n"
          ]
        }
      ]
    },
    {
      "cell_type": "code",
      "source": [
        "#type function\n",
        "type(3)\n",
        "type('ehllo')\n",
        "type(3333.3)\n",
        "type((1,2,3,4,5))\n",
        "type([1,2,3,4,5])"
      ],
      "metadata": {
        "colab": {
          "base_uri": "https://localhost:8080/"
        },
        "id": "k98T1nhFvENn",
        "outputId": "05943732-81b6-4291-d0cc-183e4f5cbfb1"
      },
      "execution_count": 27,
      "outputs": [
        {
          "output_type": "execute_result",
          "data": {
            "text/plain": [
              "list"
            ]
          },
          "metadata": {},
          "execution_count": 27
        }
      ]
    },
    {
      "cell_type": "code",
      "source": [
        "#variable\n",
        "name = 'harsh' #need not to specify data type\n",
        "a= 5\n",
        "b=6\n",
        "print (a + b)"
      ],
      "metadata": {
        "colab": {
          "base_uri": "https://localhost:8080/"
        },
        "id": "vjpnUXC3xAMX",
        "outputId": "7e6934b4-c67f-43d1-cfb3-cb5ad2f51e1f"
      },
      "execution_count": 30,
      "outputs": [
        {
          "output_type": "stream",
          "name": "stdout",
          "text": [
            "11\n"
          ]
        }
      ]
    },
    {
      "cell_type": "code",
      "source": [
        "#Dynamic Typing\n",
        "a=1 #where we dont type data type of variable\n",
        "\n",
        "#static typing\n",
        "#int a = 5"
      ],
      "metadata": {
        "id": "2k2Vw5UgxVB8"
      },
      "execution_count": 32,
      "outputs": []
    },
    {
      "cell_type": "code",
      "source": [
        "#dynamic binding = means variable can store other data type as well in same variable\n",
        "a = 3\n",
        "print(a)\n",
        "a = 'harsh'\n",
        "print(a)\n",
        "\n",
        "#static binding\n",
        "# int a = 4"
      ],
      "metadata": {
        "colab": {
          "base_uri": "https://localhost:8080/"
        },
        "id": "ns9TN_JIx6JU",
        "outputId": "4a392be7-15ed-4dad-aeb0-e20f5e554729"
      },
      "execution_count": 34,
      "outputs": [
        {
          "output_type": "stream",
          "name": "stdout",
          "text": [
            "3\n",
            "harsh\n"
          ]
        }
      ]
    },
    {
      "cell_type": "code",
      "source": [
        "a= 1\n",
        "b =2\n",
        "c= 3\n",
        "print(a,b,c)\n",
        "#OR\n",
        "a,b,c = 1,2,3\n",
        "print(a,b,c)\n",
        "\n",
        "#OR\n",
        "a=b=c=5\n",
        "print(a,b,c)"
      ],
      "metadata": {
        "colab": {
          "base_uri": "https://localhost:8080/"
        },
        "id": "bOtB_VNqyV36",
        "outputId": "72f1622e-255f-497d-cc68-8c2110a2812c"
      },
      "execution_count": 38,
      "outputs": [
        {
          "output_type": "stream",
          "name": "stdout",
          "text": [
            "1 2 3\n",
            "1 2 3\n",
            "5 5 5\n"
          ]
        }
      ]
    },
    {
      "cell_type": "code",
      "source": [
        "#add two nos\n",
        "a,b=3,5\n",
        "print(a+b)"
      ],
      "metadata": {
        "colab": {
          "base_uri": "https://localhost:8080/"
        },
        "id": "BnKucmChyoiw",
        "outputId": "bb83bffc-1e1d-4be0-ba65-c060bba86132"
      },
      "execution_count": 39,
      "outputs": [
        {
          "output_type": "stream",
          "name": "stdout",
          "text": [
            "8\n"
          ]
        }
      ]
    },
    {
      "cell_type": "code",
      "source": [
        "#keywords = special type of reserved words (32 words in python)\n",
        "print('print') #this will work\n"
      ],
      "metadata": {
        "colab": {
          "base_uri": "https://localhost:8080/"
        },
        "id": "sgHYnd-Lzeks",
        "outputId": "da7f5091-85e5-4239-b584-96bfea6b284b"
      },
      "execution_count": 42,
      "outputs": [
        {
          "output_type": "stream",
          "name": "stdout",
          "text": [
            "print\n"
          ]
        }
      ]
    },
    {
      "cell_type": "markdown",
      "source": [
        "#temp heading"
      ],
      "metadata": {
        "id": "YnufOGUv0zy_"
      }
    },
    {
      "cell_type": "code",
      "source": [
        "#identifiers = names given to variable\n",
        "#rules\n",
        "#cannot start name with digit\n",
        "#can use upper case , lower case\n",
        "# can only use _ as special variable\n",
        "_ = 'ah'\n",
        "print(_)"
      ],
      "metadata": {
        "colab": {
          "base_uri": "https://localhost:8080/"
        },
        "id": "03ZpHyWM0gtt",
        "outputId": "f553931f-2f61-4414-c8f0-f2419582a291"
      },
      "execution_count": 43,
      "outputs": [
        {
          "output_type": "stream",
          "name": "stdout",
          "text": [
            "ah\n"
          ]
        }
      ]
    },
    {
      "cell_type": "code",
      "source": [
        "#to take input from user\n",
        "input()\n",
        "input ('apna naam bta')"
      ],
      "metadata": {
        "colab": {
          "base_uri": "https://localhost:8080/",
          "height": 70
        },
        "id": "Xd-T_WZJ1t9p",
        "outputId": "b580e00d-3ee0-4fe7-deae-dd3381fd3905"
      },
      "execution_count": 47,
      "outputs": [
        {
          "name": "stdout",
          "output_type": "stream",
          "text": [
            "je\n",
            "apna naam btajeee\n"
          ]
        },
        {
          "output_type": "execute_result",
          "data": {
            "text/plain": [
              "'jeee'"
            ],
            "application/vnd.google.colaboratory.intrinsic+json": {
              "type": "string"
            }
          },
          "metadata": {},
          "execution_count": 47
        }
      ]
    },
    {
      "cell_type": "code",
      "source": [
        "#take 2 nos and add by taking input\n",
        "a = input('enter first no. : ')\n",
        "b = input('enter second no. : ')\n",
        "print(a+b)#interesting result\n",
        "print(type(a),type(b))\n",
        "#result bec string can store any format but vice versa is not possible"
      ],
      "metadata": {
        "colab": {
          "base_uri": "https://localhost:8080/"
        },
        "id": "wbc-tJbE2Ep_",
        "outputId": "6dc9c8c3-9f9b-4a02-a0dc-fca24ae2842e"
      },
      "execution_count": 53,
      "outputs": [
        {
          "output_type": "stream",
          "name": "stdout",
          "text": [
            "enter first no. : 3\n",
            "enter second no. : 4\n",
            "34\n",
            "<class 'str'> <class 'str'>\n"
          ]
        }
      ]
    },
    {
      "cell_type": "code",
      "source": [
        "#type conversion\n",
        "#implicit vs explicit\n",
        "print(5+5.6)\n",
        "print(type(5),type(5.6))\n",
        "#error ==>> print ( 4+'4')"
      ],
      "metadata": {
        "colab": {
          "base_uri": "https://localhost:8080/"
        },
        "id": "LgV-9HK-2t1b",
        "outputId": "02ec3ff8-97d6-4f4b-9f6a-4009a6791b01"
      },
      "execution_count": 59,
      "outputs": [
        {
          "output_type": "stream",
          "name": "stdout",
          "text": [
            "10.6\n",
            "<class 'int'> <class 'float'>\n"
          ]
        }
      ]
    },
    {
      "cell_type": "code",
      "source": [
        "#explicit\n",
        "#string ==>> int\n",
        "int('4')\n",
        "\n",
        "#int to str\n",
        "str(5)\n",
        "#float\n",
        "float(4)"
      ],
      "metadata": {
        "colab": {
          "base_uri": "https://localhost:8080/"
        },
        "id": "h878o9zU3hc1",
        "outputId": "c2e07d24-2344-4cac-b73d-e71bbb9444b1"
      },
      "execution_count": 68,
      "outputs": [
        {
          "output_type": "execute_result",
          "data": {
            "text/plain": [
              "4.0"
            ]
          },
          "metadata": {},
          "execution_count": 68
        }
      ]
    },
    {
      "cell_type": "code",
      "source": [
        "a = input('enter first no. : ')\n",
        "b = input('enter second no. : ')\n",
        "print(int(a)+int(b)) # a and b abhi bhi str hi rahenge\n",
        "print(type(a)) #type conversion does not change the original value ****"
      ],
      "metadata": {
        "colab": {
          "base_uri": "https://localhost:8080/"
        },
        "id": "-2t_YKZS4uaR",
        "outputId": "d0693c34-8bf5-4733-ae40-80cd4948431b"
      },
      "execution_count": 75,
      "outputs": [
        {
          "output_type": "stream",
          "name": "stdout",
          "text": [
            "enter first no. : 22\n",
            "enter second no. : 33\n",
            "55\n",
            "<class 'str'>\n"
          ]
        }
      ]
    },
    {
      "cell_type": "code",
      "source": [
        "a = int(input('enter first no. : '))\n",
        "b = int(input('enter second no. : '))\n",
        "print(a+b)\n",
        "print(type(a))"
      ],
      "metadata": {
        "colab": {
          "base_uri": "https://localhost:8080/"
        },
        "id": "9SCH86UN514y",
        "outputId": "1efe3703-41b9-4e29-ebdd-e1efe2134b98"
      },
      "execution_count": 76,
      "outputs": [
        {
          "output_type": "stream",
          "name": "stdout",
          "text": [
            "enter first no. : 33\n",
            "enter second no. : 22\n",
            "55\n",
            "<class 'int'>\n"
          ]
        }
      ]
    },
    {
      "cell_type": "code",
      "source": [
        "#literals = values stored in variables\n",
        "a = 0b1010 #binary literal\n",
        "b = 100 #decimal literal\n",
        "c = 0o310 #octal literal\n",
        "d = 0x12c #hexadecimal literal\n",
        "\n",
        "#float literal\n",
        "float_1 = 10.5\n",
        "float_2 = 1.5e2 #1.5*10^2\n",
        "float_3 = 1.5e-3 #1.5*10^-3\n",
        "\n",
        "#complex literal\n",
        "x = 3.14j\n"
      ],
      "metadata": {
        "id": "qqjsyuCf58dF"
      },
      "execution_count": 77,
      "outputs": []
    },
    {
      "cell_type": "code",
      "source": [
        "string = 'this is python'\n",
        "strings = \"this is python\"\n",
        "char = \"c\"\n",
        "multiline_str = \"\"\"this is a multiline string with more than one line code\"\"\"\n",
        "unicode = u\"\\U0001f600\\U0001F606\\U0001F923\"\n",
        "raw_str =r\"\\n \""
      ],
      "metadata": {
        "id": "9sShRkRf7fFQ"
      },
      "execution_count": 79,
      "outputs": []
    },
    {
      "cell_type": "code",
      "source": [
        "#booleans\n",
        "a= True + 4\n",
        "b = False + 10\n",
        "print(\"a:\",a)\n",
        "print(\"B:\",b)"
      ],
      "metadata": {
        "colab": {
          "base_uri": "https://localhost:8080/"
        },
        "id": "gTOlgCds8V_i",
        "outputId": "e98934be-9983-42e9-b880-197104bf1309"
      },
      "execution_count": 83,
      "outputs": [
        {
          "output_type": "stream",
          "name": "stdout",
          "text": [
            "a: 5\n",
            "B: 10\n"
          ]
        }
      ]
    },
    {
      "cell_type": "code",
      "source": [
        "#None\n",
        "a=None #used when we dont know the value of a variable\n",
        "print (a)"
      ],
      "metadata": {
        "colab": {
          "base_uri": "https://localhost:8080/"
        },
        "id": "IVJsQ6q28jd3",
        "outputId": "30559861-7eb8-4a0a-c0d3-d233642a6c0a"
      },
      "execution_count": 85,
      "outputs": [
        {
          "output_type": "stream",
          "name": "stdout",
          "text": [
            "None\n"
          ]
        }
      ]
    },
    {
      "cell_type": "code",
      "source": [
        "#Operators\n"
      ],
      "metadata": {
        "id": "Jse7oSEC83li"
      },
      "execution_count": null,
      "outputs": []
    }
  ]
}